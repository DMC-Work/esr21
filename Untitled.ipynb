{
 "cells": [
  {
   "cell_type": "code",
   "execution_count": 1,
   "id": "6d46ca58",
   "metadata": {},
   "outputs": [],
   "source": [
    "# Imports\n",
    "import os \n",
    "import pandas as pd\n",
    "from django.core.exceptions import ValidationError\n",
    "os.environ[\"DJANGO_ALLOW_ASYNC_UNSAFE\"] = \"true\"\n",
    "\n",
    "\n",
    "#Data path\n",
    "data_path = '/Users/imosweu/export_migration_data_esr21/20211115/'\n",
    "\n",
    "from datetime import date\n",
    "\n",
    "friday = date(2021,11,12)"
   ]
  },
  {
   "cell_type": "code",
   "execution_count": 3,
   "id": "8ad56f32",
   "metadata": {},
   "outputs": [],
   "source": [
    "#Eligibility Confirmation\n",
    "eligibility_confirmations = EligibilityConfirmation.objects.filter(created__date__gte=friday)\n",
    "eligibility_confirmation_data=[]\n",
    "\n",
    "for eligibility_confirmation in eligibility_confirmations:\n",
    "    data = eligibility_confirmation.__dict__\n",
    "    eligibility_confirmation_data.append(data)\n",
    "    \n",
    "df_eligibility_confirmation = pd.DataFrame(eligibility_confirmation_data)\n",
    "\n",
    "eligibility_confirmation_file = 'eligibility_confirmation.csv'\n",
    "fpath = data_path + eligibility_confirmation_file\n",
    "df_eligibility_confirmation.to_csv(fpath, sep='|', encoding='utf-8')"
   ]
  },
  {
   "cell_type": "code",
   "execution_count": 5,
   "id": "c4d262d8",
   "metadata": {},
   "outputs": [],
   "source": [
    "# # Link Consent and Eligibility\n",
    "# informed_consent = InformedConsent.objects.get(screening_identifier='S44HX7MF')\n",
    "# consent_eligibility_data = []\n",
    "\n",
    "#     try:\n",
    "#         eligibility = MaternalEligibility.objects.get(id=mc.maternal_eligibility.id)\n",
    "#     except MaternalEligibility.DoesNotExist:\n",
    "#         raise ValidationError(\"Eligibility for the participant can not be missing\", mc.subject_identifier)\n",
    "#     else:\n",
    "#         data = {'subject_identifier': mc.subject_identifier, 'eligibility_id': eligibility.id}\n",
    "#         consent_eligibility_data.append(data)\n",
    "        \n",
    "# df_consent_eligibility = pd.DataFrame(consent_eligibility_data)\n",
    "# consent_eligibility_file = 'consent_eligibility.csv'\n",
    "# fpath = data_path + consent_eligibility_file\n",
    "# df_consent_eligibility.to_csv(fpath, sep='|', encoding='utf-8')"
   ]
  },
  {
   "cell_type": "code",
   "execution_count": 2,
   "id": "6ccf24c9",
   "metadata": {},
   "outputs": [],
   "source": [
    "# Subject Consent\n",
    "informed_consents = InformedConsent.objects.filter(created__date=friday, site_id='41')\n",
    "informed_consent_data = []\n",
    "\n",
    "# for informed_consent in informed_consents:\n",
    "#     data = informed_consent.__dict__\n",
    "#     informed_consent_data.append(data)\n",
    "# df_informed_consent = pd.DataFrame(informed_consent_data)\n",
    "\n",
    "# informed_consent_file = 'informed_consent.csv'\n",
    "# fpath = data_path + informed_consent_file\n",
    "# df_informed_consent.to_csv(fpath, sep='|', encoding='utf-8')"
   ]
  },
  {
   "cell_type": "code",
   "execution_count": 7,
   "id": "a3933ac9",
   "metadata": {},
   "outputs": [],
   "source": [
    "# # Registered Subject\n",
    "# registered_subject = RegisteredSubject.objects.get(created__date__gte=friday)\n",
    "# registered_subject_data = []\n",
    "\n",
    "# data = registered_subject.__dict__\n",
    "# registered_subject_data.append(data)\n",
    "# df_registered_subject = pd.DataFrame(registered_subject_data)\n",
    "# registered_subject_file = 'registered_subject.csv'\n",
    "# fpath = data_path + registered_subject_file\n",
    "# df_registered_subject.to_csv(fpath, sep='|', encoding='utf-8')\n"
   ]
  },
  {
   "cell_type": "code",
   "execution_count": 6,
   "id": "b900965a",
   "metadata": {},
   "outputs": [],
   "source": [
    "# Subject Screening\n",
    "subject_screenings = ScreeningEligibility.objects.filter(created__date__gte=friday)\n",
    "subject_screening_data = []\n",
    "\n",
    "for subject_screening in subject_screenings:\n",
    "    data = subject_screening.__dict__\n",
    "    subject_screening_data.append(data)\n",
    "    \n",
    "df_subject_screening = pd.DataFrame(subject_screening_data)\n",
    "subject_screening_file = 'subject_screening.csv'\n",
    "fpath = data_path + subject_screening_file\n",
    "df_subject_screening.to_csv(fpath, sep='|', encoding='utf-8')"
   ]
  },
  {
   "cell_type": "code",
   "execution_count": 3,
   "id": "2e649090",
   "metadata": {},
   "outputs": [],
   "source": [
    "friday_pids = informed_consents.values_list('subject_identifier', flat=True)"
   ]
  },
  {
   "cell_type": "code",
   "execution_count": 4,
   "id": "e0ea2463",
   "metadata": {},
   "outputs": [
    {
     "data": {
      "text/plain": [
       "32"
      ]
     },
     "execution_count": 4,
     "metadata": {},
     "output_type": "execute_result"
    }
   ],
   "source": [
    "len(friday_pids)"
   ]
  },
  {
   "cell_type": "code",
   "execution_count": 12,
   "id": "fd1b182b",
   "metadata": {},
   "outputs": [],
   "source": [
    "# Appointment\n",
    "appointments = Appointment.objects.filter(~Q(appt_status='new'),\n",
    "                                          created__date__gte=friday, \n",
    "                                          subject_identifier__in=friday_pids,)\n",
    "appointment_data = []\n",
    "\n",
    "for ap in appointments:\n",
    "    data = ap.__dict__\n",
    "    appointment_data.append(data)\n",
    "df_appointments = pd.DataFrame(appointment_data)\n",
    "appointments_file = 'appointments.csv'\n",
    "fpath = data_path + appointments_file\n",
    "df_appointments.to_csv(fpath, sep='|', encoding='utf-8')"
   ]
  },
  {
   "cell_type": "code",
   "execution_count": 13,
   "id": "d5329957",
   "metadata": {},
   "outputs": [],
   "source": [
    "# Subject Visit\n",
    "subject_visits = SubjectVisit.objects.filter(subject_identifier__in=friday_pids)\n",
    "subject_visits_data = []\n",
    "for mv in subject_visits:\n",
    "    data = mv.__dict__\n",
    "    subject_visits_data.append(data)\n",
    "df_subject_visits = pd.DataFrame(subject_visits_data)\n",
    "subject_visits_file = 'subject_visits.csv'\n",
    "fpath = data_path + subject_visits_file\n",
    "df_subject_visits.to_csv(fpath, sep='|', encoding='utf-8')"
   ]
  },
  {
   "cell_type": "code",
   "execution_count": 5,
   "id": "6cbd6fe5",
   "metadata": {},
   "outputs": [],
   "source": [
    "# Personal Contact Info\n",
    "personal_contact_infos = PersonalContactInfo.objects.filter(subject_identifier__in=friday_pids)\n",
    "personal_contact_info_data = []\n",
    "\n",
    "for personal_contact_info in personal_contact_infos:\n",
    "    data = personal_contact_info.__dict__\n",
    "    personal_contact_info_data.append(data)\n",
    "    \n",
    "df_personal_contact_infos = pd.DataFrame(personal_contact_info_data)\n",
    "personal_contact_infos_file = 'personal_contact_infos.csv'\n",
    "fpath = data_path + personal_contact_infos_file\n",
    "df_personal_contact_infos.to_csv(fpath, sep='|', encoding='utf-8')"
   ]
  },
  {
   "cell_type": "code",
   "execution_count": 17,
   "id": "e2d3922c",
   "metadata": {},
   "outputs": [],
   "source": [
    "# Maternal CRFS\n",
    "from django.apps import apps as django_apps\n",
    "crf_list = [\n",
    "    'demographicsdata',\n",
    "    'medicalhistory',\n",
    "    'physicalexam',\n",
    "    'rapidhivtesting',\n",
    "    'pregnancystatus',\n",
    "    'pregnancytest',\n",
    "    'adverseevent',\n",
    "    'seriousadverseevent',\n",
    "    'specialinterestadverseevent',\n",
    "    'vaccinationdetails',\n",
    "    'vitalsigns',\n",
    "    'covid19preventativebehaviours',\n",
    "    ]\n",
    "data_path = '/Users/imosweu/export_migration_data_esr21/20211115/subject_crfs/'\n",
    "for model_name in crf_list:\n",
    "    cls = django_apps.get_model('esr21_subject', model_name)\n",
    "    objs = cls.objects.filter(subject_visit__subject_identifier__in=friday_pids)\n",
    "    crf_data = []\n",
    "    crf_file_path = data_path + model_name + '.csv'\n",
    "    for obj in objs:\n",
    "        data = obj.__dict__\n",
    "        data.update(\n",
    "        subject_visit_id=obj.subject_visit.id)\n",
    "        crf_data.append(data)\n",
    "    df_crf = pd.DataFrame(crf_data)\n",
    "    df_crf.to_csv(crf_file_path, sep='|', encoding='utf-8')"
   ]
  },
  {
   "cell_type": "code",
   "execution_count": 14,
   "id": "5403c9fc",
   "metadata": {},
   "outputs": [],
   "source": [
    "# Export Maternal requisitions\n",
    "from datetime import datetime\n",
    "m_requisition = SubjectRequisition.objects.all()\n",
    "mr_file_name = 'subject_requisition.csv'\n",
    "mr_file_path = data_path + mr_file_name\n",
    "mr_data = []\n",
    "for mr in m_requisition:\n",
    "    data = mr.__dict__\n",
    "    mr_data.append(data)\n",
    "df_mr = pd.DataFrame(mr_data)\n",
    "df_mr.to_csv(mr_file_path, sep='|', encoding='utf-8')"
   ]
  },
  {
   "cell_type": "code",
   "execution_count": null,
   "id": "fecc1452",
   "metadata": {},
   "outputs": [],
   "source": []
  },
  {
   "cell_type": "code",
   "execution_count": null,
   "id": "1bdd27b4",
   "metadata": {},
   "outputs": [],
   "source": []
  }
 ],
 "metadata": {
  "kernelspec": {
   "display_name": "Django Shell-Plus",
   "language": "python",
   "name": "django_extensions"
  },
  "language_info": {
   "codemirror_mode": {
    "name": "ipython",
    "version": 3
   },
   "file_extension": ".py",
   "mimetype": "text/x-python",
   "name": "python",
   "nbconvert_exporter": "python",
   "pygments_lexer": "ipython3",
   "version": "3.9.0"
  }
 },
 "nbformat": 4,
 "nbformat_minor": 5
}
