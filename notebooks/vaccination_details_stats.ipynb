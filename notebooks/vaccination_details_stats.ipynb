{
 "cells": [
  {
   "cell_type": "code",
   "execution_count": 1,
   "id": "3f981af4",
   "metadata": {},
   "outputs": [],
   "source": [
    "import os\n",
    "import django\n",
    "\n",
    "os.environ.setdefault('DJANGO_SETTINGS_MODULE', 'rest.settings')\n",
    "os.environ[\"DJANGO_ALLOW_ASYNC_UNSAFE\"] = \"true\"\n",
    "django.setup()\n"
   ]
  },
  {
   "cell_type": "code",
   "execution_count": 3,
   "id": "4a08f10a",
   "metadata": {},
   "outputs": [],
   "source": [
    "due_date = datetime.datetime(2021, 12, 15, tzinfo=pytz.timezone('Africa/Gaborone'))"
   ]
  },
  {
   "cell_type": "code",
   "execution_count": 40,
   "id": "25735e45",
   "metadata": {},
   "outputs": [],
   "source": [
    "gabs_first_dose = VaccinationDetails.objects.filter(received_dose_before='first_dose', site_id=40).count()"
   ]
  },
  {
   "cell_type": "code",
   "execution_count": 41,
   "id": "587380bb",
   "metadata": {},
   "outputs": [
    {
     "data": {
      "text/plain": [
       "3287"
      ]
     },
     "execution_count": 41,
     "metadata": {},
     "output_type": "execute_result"
    }
   ],
   "source": [
    "gabs_first_dose\n"
   ]
  },
  {
   "cell_type": "code",
   "execution_count": 38,
   "id": "0404fb91",
   "metadata": {},
   "outputs": [],
   "source": [
    "maun_first_dose = VaccinationDetails.objects.filter(received_dose_before='first_dose', site_id=41).count()"
   ]
  },
  {
   "cell_type": "code",
   "execution_count": 39,
   "id": "5e6578a3",
   "metadata": {},
   "outputs": [
    {
     "data": {
      "text/plain": [
       "1135"
      ]
     },
     "execution_count": 39,
     "metadata": {},
     "output_type": "execute_result"
    }
   ],
   "source": [
    "maun_first_dose"
   ]
  },
  {
   "cell_type": "code",
   "execution_count": 36,
   "id": "cb61b3b2",
   "metadata": {},
   "outputs": [],
   "source": [
    "serowe_first_dose = VaccinationDetails.objects.filter(received_dose_before='first_dose', site_id=42).count()"
   ]
  },
  {
   "cell_type": "code",
   "execution_count": 37,
   "id": "82e55bd9",
   "metadata": {},
   "outputs": [
    {
     "data": {
      "text/plain": [
       "907"
      ]
     },
     "execution_count": 37,
     "metadata": {},
     "output_type": "execute_result"
    }
   ],
   "source": [
    "serowe_first_dose"
   ]
  },
  {
   "cell_type": "code",
   "execution_count": 34,
   "id": "62f9120d",
   "metadata": {},
   "outputs": [],
   "source": [
    "ftown_first_dose = VaccinationDetails.objects.filter(received_dose_before='first_dose', site_id=43).count()"
   ]
  },
  {
   "cell_type": "code",
   "execution_count": 35,
   "id": "3692e62e",
   "metadata": {},
   "outputs": [
    {
     "data": {
      "text/plain": [
       "1047"
      ]
     },
     "execution_count": 35,
     "metadata": {},
     "output_type": "execute_result"
    }
   ],
   "source": [
    "ftown_first_dose\n"
   ]
  },
  {
   "cell_type": "code",
   "execution_count": 32,
   "id": "2f0eab93",
   "metadata": {},
   "outputs": [],
   "source": [
    "phikwe_first_dose = VaccinationDetails.objects.filter(received_dose_before='first_dose', site_id=44).count()"
   ]
  },
  {
   "cell_type": "code",
   "execution_count": 33,
   "id": "687073b9",
   "metadata": {},
   "outputs": [
    {
     "data": {
      "text/plain": [
       "671"
      ]
     },
     "execution_count": 33,
     "metadata": {},
     "output_type": "execute_result"
    }
   ],
   "source": [
    "phikwe_first_dose"
   ]
  },
  {
   "cell_type": "code",
   "execution_count": 44,
   "id": "f17b2784",
   "metadata": {},
   "outputs": [],
   "source": [
    "all_sites_first_dose = VaccinationDetails.objects.filter(received_dose_before='first_dose').count()"
   ]
  },
  {
   "cell_type": "code",
   "execution_count": 45,
   "id": "5997d7bc",
   "metadata": {},
   "outputs": [
    {
     "data": {
      "text/plain": [
       "7047"
      ]
     },
     "execution_count": 45,
     "metadata": {},
     "output_type": "execute_result"
    }
   ],
   "source": [
    "all_sites_first_dose"
   ]
  },
  {
   "cell_type": "code",
   "execution_count": 30,
   "id": "91e34130",
   "metadata": {},
   "outputs": [],
   "source": [
    "gabs_second_dose = VaccinationDetails.objects.filter(received_dose_before='second_dose', site_id=40).count()"
   ]
  },
  {
   "cell_type": "code",
   "execution_count": 31,
   "id": "488f1470",
   "metadata": {},
   "outputs": [
    {
     "data": {
      "text/plain": [
       "610"
      ]
     },
     "execution_count": 31,
     "metadata": {},
     "output_type": "execute_result"
    }
   ],
   "source": [
    "gabs_second_dose\n"
   ]
  },
  {
   "cell_type": "code",
   "execution_count": 28,
   "id": "cee71d4d",
   "metadata": {},
   "outputs": [],
   "source": [
    "maun_second_dose = VaccinationDetails.objects.filter(received_dose_before='second_dose', site_id=41).count()"
   ]
  },
  {
   "cell_type": "code",
   "execution_count": 29,
   "id": "a6a3c0bc",
   "metadata": {},
   "outputs": [
    {
     "data": {
      "text/plain": [
       "6"
      ]
     },
     "execution_count": 29,
     "metadata": {},
     "output_type": "execute_result"
    }
   ],
   "source": [
    "maun_second_dose\n"
   ]
  },
  {
   "cell_type": "code",
   "execution_count": 18,
   "id": "1e1d0966",
   "metadata": {},
   "outputs": [],
   "source": [
    "serowe_second_dose = VaccinationDetails.objects.filter(received_dose_before='second_dose', created__date__lte=due_date, site_id=42).count()"
   ]
  },
  {
   "cell_type": "code",
   "execution_count": 19,
   "id": "65e9b9bf",
   "metadata": {},
   "outputs": [
    {
     "data": {
      "text/plain": [
       "0"
      ]
     },
     "execution_count": 19,
     "metadata": {},
     "output_type": "execute_result"
    }
   ],
   "source": [
    "serowe_second_dose\n"
   ]
  },
  {
   "cell_type": "code",
   "execution_count": 26,
   "id": "bca4ac3d",
   "metadata": {},
   "outputs": [],
   "source": [
    "ftown_second_dose = VaccinationDetails.objects.filter(received_dose_before='second_dose', site_id=43).count()"
   ]
  },
  {
   "cell_type": "code",
   "execution_count": 27,
   "id": "0f6881af",
   "metadata": {},
   "outputs": [
    {
     "data": {
      "text/plain": [
       "36"
      ]
     },
     "execution_count": 27,
     "metadata": {},
     "output_type": "execute_result"
    }
   ],
   "source": [
    "ftown_second_dose\n"
   ]
  },
  {
   "cell_type": "code",
   "execution_count": 22,
   "id": "12f025ca",
   "metadata": {},
   "outputs": [],
   "source": [
    "phikwe_second_dose = VaccinationDetails.objects.filter(received_dose_before='second_dose', created__date__lte=due_date, site_id=44).count()"
   ]
  },
  {
   "cell_type": "code",
   "execution_count": 23,
   "id": "b2580bd9",
   "metadata": {},
   "outputs": [
    {
     "data": {
      "text/plain": [
       "0"
      ]
     },
     "execution_count": 23,
     "metadata": {},
     "output_type": "execute_result"
    }
   ],
   "source": [
    "phikwe_second_dose\n"
   ]
  },
  {
   "cell_type": "code",
   "execution_count": 42,
   "id": "c85b7b37",
   "metadata": {},
   "outputs": [],
   "source": [
    "all_sites_second_dose = VaccinationDetails.objects.filter(received_dose_before='second_dose').count()"
   ]
  },
  {
   "cell_type": "code",
   "execution_count": 43,
   "id": "919103e2",
   "metadata": {},
   "outputs": [
    {
     "data": {
      "text/plain": [
       "699"
      ]
     },
     "execution_count": 43,
     "metadata": {},
     "output_type": "execute_result"
    }
   ],
   "source": [
    "all_sites_second_dose\n"
   ]
  },
  {
   "cell_type": "code",
   "execution_count": 46,
   "id": "f732fbcb",
   "metadata": {},
   "outputs": [],
   "source": [
    "all_sites = VaccinationDetails.objects.all().count()"
   ]
  },
  {
   "cell_type": "code",
   "execution_count": 47,
   "id": "5fffef26",
   "metadata": {},
   "outputs": [
    {
     "data": {
      "text/plain": [
       "7750"
      ]
     },
     "execution_count": 47,
     "metadata": {},
     "output_type": "execute_result"
    }
   ],
   "source": [
    "all_sites\n"
   ]
  },
  {
   "cell_type": "code",
   "execution_count": null,
   "id": "7f4db0ec",
   "metadata": {},
   "outputs": [],
   "source": []
  }
 ],
 "metadata": {
  "kernelspec": {
   "display_name": "Django Shell-Plus",
   "language": "python",
   "name": "django_extensions"
  },
  "language_info": {
   "codemirror_mode": {
    "name": "ipython",
    "version": 3
   },
   "file_extension": ".py",
   "mimetype": "text/x-python",
   "name": "python",
   "nbconvert_exporter": "python",
   "pygments_lexer": "ipython3",
   "version": "3.9.8"
  }
 },
 "nbformat": 4,
 "nbformat_minor": 5
}
