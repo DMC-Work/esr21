{
 "cells": [
  {
   "cell_type": "code",
   "execution_count": 54,
   "id": "0a69cf1b",
   "metadata": {},
   "outputs": [],
   "source": [
    "import os\n",
    "os.environ[\"DJANGO_ALLOW_ASYNC_UNSAFE\"] = \"true\"\n",
    "\n",
    "from esr21_metadata_rules.predicates import SubjectPredicates\n",
    "\n",
    "pc = SubjectPredicates()\n",
    "\n",
    "site_ids = (40, 41, 42, 43, 44,)\n",
    "\n"
   ]
  },
  {
   "cell_type": "markdown",
   "id": "344f414e",
   "metadata": {},
   "source": [
    "## AE Rules\n",
    "#### Missing Serious AE"
   ]
  },
  {
   "cell_type": "code",
   "execution_count": 55,
   "id": "1b99fca2",
   "metadata": {},
   "outputs": [],
   "source": [
    "\n",
    "pids_with_missing_sae = list()\n",
    "\n",
    "\n",
    "ae_crfs = AdverseEvent.objects.filter(site_id__in=site_ids)\n",
    "\n",
    "for crf in ae_crfs:\n",
    "    \n",
    "    sae_predicate = pc.func_serious_ae_required(crf.subject_visit)\n",
    "\n",
    "    if sae_predicate:\n",
    "\n",
    "        sae_exists = SeriousAdverseEvent.objects.filter(subject_visit=crf.subject_visit).exists()\n",
    "        \n",
    "        if not sae_exists:\n",
    "            pids_with_missing_sae.append(crf.subject_visit)\n",
    "\n"
   ]
  },
  {
   "cell_type": "code",
   "execution_count": 57,
   "id": "51513474",
   "metadata": {},
   "outputs": [
    {
     "data": {
      "text/plain": [
       "[<SubjectVisit: 150-040993693-5 1014.0>,\n",
       " <SubjectVisit: 150-040993564-8 1098.1>]"
      ]
     },
     "execution_count": 57,
     "metadata": {},
     "output_type": "execute_result"
    }
   ],
   "source": [
    "pids_with_missing_sae"
   ]
  },
  {
   "cell_type": "markdown",
   "id": "c30c2978",
   "metadata": {},
   "source": [
    "## AE Rules\n",
    "#### Missing Special AE "
   ]
  },
  {
   "cell_type": "code",
   "execution_count": 58,
   "id": "65ca9c8a",
   "metadata": {},
   "outputs": [],
   "source": [
    "\n",
    "pids_with_missing_ssae = list()\n",
    "\n",
    "ae_crfs = AdverseEvent.objects.filter(site_id__in=site_ids)\n",
    "\n",
    "for crf in ae_crfs:\n",
    "    \n",
    "\n",
    "    sae_predicate = pc.func_special_interest_ae_required(crf.subject_visit)\n",
    "\n",
    "    if sae_predicate:\n",
    "\n",
    "        sae_exists = SpecialInterestAdverseEvent.objects.filter(subject_visit=crf.subject_visit)\n",
    "\n",
    "        if not sae_exists:\n",
    "            pids_with_missing_ssae.append(crf)\n",
    "\n"
   ]
  },
  {
   "cell_type": "code",
   "execution_count": 59,
   "id": "06e8b063",
   "metadata": {},
   "outputs": [
    {
     "data": {
      "text/plain": [
       "[<AdverseEvent: 150-040991578-0 1007.0>,\n",
       " <AdverseEvent: 150-041971348-0 1098.1>]"
      ]
     },
     "execution_count": 59,
     "metadata": {},
     "output_type": "execute_result"
    }
   ],
   "source": [
    "pids_with_missing_ssae"
   ]
  },
  {
   "cell_type": "markdown",
   "id": "8105b0ad",
   "metadata": {},
   "source": [
    "## Covid-19 Rules\n",
    "#### Missing physical exam and vaccination details"
   ]
  },
  {
   "cell_type": "code",
   "execution_count": 64,
   "id": "fe584628",
   "metadata": {},
   "outputs": [],
   "source": [
    "from edc_constants.choices import NEG\n",
    "\n",
    "\n",
    "covid_results_crfs = Covid19Results.objects.filter(covid_result=NEG, site_id__in=site_ids)\n",
    "\n",
    "missing_physical_exam = list()\n",
    "missing_vaccination_details = list()\n",
    "\n",
    "for crf in covid_results_crfs:\n",
    "    \n",
    "    physical_exam_exist = PhysicalExam.objects.filter(subject_visit=crf.subject_visit).exists()\n",
    "    vaccination_details_exist = VaccinationDetails.objects.filter(subject_visit=crf.subject_visit).exists()\n",
    "\n",
    "    if not physical_exam_exist:\n",
    "        missing_physical_exam.append(crf)\n",
    "\n",
    "    if not vaccination_details_exist:\n",
    "        missing_vaccination_details.append(crf)\n",
    "            \n",
    "                \n"
   ]
  },
  {
   "cell_type": "code",
   "execution_count": 63,
   "id": "64e92f2b",
   "metadata": {},
   "outputs": [
    {
     "data": {
      "text/plain": [
       "[<Covid19Results: 150-040992893-2 1077.0>,\n",
       " <Covid19Results: 150-040990805-8 1084.0>,\n",
       " <Covid19Results: 150-041970741-7 1007.0>,\n",
       " <Covid19Results: 150-040992189-5 1014.0>,\n",
       " <Covid19Results: 150-040992968-2 1077.0>,\n",
       " <Covid19Results: 150-040993649-7 1070.0>,\n",
       " <Covid19Results: 150-040990990-8 1084.0>,\n",
       " <Covid19Results: 150-040993649-7 1070.1>,\n",
       " <Covid19Results: 150-040991126-8 1007.0>,\n",
       " <Covid19Results: 150-041971712-7 1007.0>,\n",
       " <Covid19Results: 150-040991409-8 1007.0>,\n",
       " <Covid19Results: 150-040990323-2 1014.0>,\n",
       " <Covid19Results: 150-040990376-0 1098.0>,\n",
       " <Covid19Results: 150-040993438-5 1014.0>,\n",
       " <Covid19Results: 150-040991409-8 1077.0>,\n",
       " <Covid19Results: 150-040990157-4 1007.0>,\n",
       " <Covid19Results: 150-040992839-5 1007.0>,\n",
       " <Covid19Results: 150-040993564-8 1007.0>,\n",
       " <Covid19Results: 150-041970528-8 1000.0>,\n",
       " <Covid19Results: 150-040992404-8 1014.0>,\n",
       " <Covid19Results: 150-041971575-8 1028.0>,\n",
       " <Covid19Results: 150-040990164-0 1182.0>,\n",
       " <Covid19Results: 150-040990041-0 1014.0>,\n",
       " <Covid19Results: 150-040992796-7 1028.0>,\n",
       " <Covid19Results: 150-043941340-0 1028.0>,\n",
       " <Covid19Results: 150-043941158-6 1000.0>,\n",
       " <Covid19Results: 150-040990602-9 1014.0>,\n",
       " <Covid19Results: 150-040991964-2 1028.0>,\n",
       " <Covid19Results: 150-040990516-1 1007.0>,\n",
       " <Covid19Results: 150-040993578-8 1028.0>,\n",
       " <Covid19Results: 150-041971722-6 1014.0>,\n",
       " <Covid19Results: 150-040991803-2 1077.0>,\n",
       " <Covid19Results: 150-040993144-9 1007.0>,\n",
       " <Covid19Results: 150-040993534-1 1042.0>,\n",
       " <Covid19Results: 150-040991126-8 1014.0>,\n",
       " <Covid19Results: 150-043941146-1 1000.0>,\n",
       " <Covid19Results: 150-040992064-0 1014.0>,\n",
       " <Covid19Results: 150-043940004-3 1182.0>,\n",
       " <Covid19Results: 150-041970099-0 1007.0>,\n",
       " <Covid19Results: 150-040990844-7 1098.1>,\n",
       " <Covid19Results: 150-041970722-7 1084.0>,\n",
       " <Covid19Results: 150-040990546-8 1014.0>,\n",
       " <Covid19Results: 150-040990759-7 1098.0>,\n",
       " <Covid19Results: 150-041971192-2 1000.0>,\n",
       " <Covid19Results: 150-040990323-2 1007.0>,\n",
       " <Covid19Results: 150-042981024-3 1084.0>,\n",
       " <Covid19Results: 150-041971819-0 1000.0>,\n",
       " <Covid19Results: 150-040991215-9 1028.0>,\n",
       " <Covid19Results: 150-041971624-4 1007.0>]"
      ]
     },
     "execution_count": 63,
     "metadata": {},
     "output_type": "execute_result"
    }
   ],
   "source": [
    "missing_physical_exam"
   ]
  },
  {
   "cell_type": "code",
   "execution_count": 65,
   "id": "38fb94c5",
   "metadata": {},
   "outputs": [
    {
     "data": {
      "text/plain": [
       "[<Covid19Results: 150-040992893-2 1077.0>,\n",
       " <Covid19Results: 150-040990805-8 1084.0>,\n",
       " <Covid19Results: 150-041970741-7 1007.0>,\n",
       " <Covid19Results: 150-040992189-5 1014.0>,\n",
       " <Covid19Results: 150-040992968-2 1077.0>,\n",
       " <Covid19Results: 150-040993649-7 1070.0>,\n",
       " <Covid19Results: 150-040990990-8 1084.0>,\n",
       " <Covid19Results: 150-040993649-7 1070.1>,\n",
       " <Covid19Results: 150-040991126-8 1007.0>,\n",
       " <Covid19Results: 150-041971712-7 1007.0>,\n",
       " <Covid19Results: 150-040991409-8 1007.0>,\n",
       " <Covid19Results: 150-040990323-2 1014.0>,\n",
       " <Covid19Results: 150-040990376-0 1098.0>,\n",
       " <Covid19Results: 150-040993438-5 1014.0>,\n",
       " <Covid19Results: 150-040991409-8 1077.0>,\n",
       " <Covid19Results: 150-040990157-4 1007.0>,\n",
       " <Covid19Results: 150-040992839-5 1007.0>,\n",
       " <Covid19Results: 150-040993564-8 1007.0>,\n",
       " <Covid19Results: 150-041970528-8 1000.0>,\n",
       " <Covid19Results: 150-040992404-8 1014.0>,\n",
       " <Covid19Results: 150-041971575-8 1028.0>,\n",
       " <Covid19Results: 150-040990164-0 1182.0>,\n",
       " <Covid19Results: 150-040990041-0 1014.0>,\n",
       " <Covid19Results: 150-040992796-7 1028.0>,\n",
       " <Covid19Results: 150-043941340-0 1028.0>,\n",
       " <Covid19Results: 150-043941158-6 1000.0>,\n",
       " <Covid19Results: 150-040990602-9 1014.0>,\n",
       " <Covid19Results: 150-040991964-2 1028.0>,\n",
       " <Covid19Results: 150-040990516-1 1007.0>,\n",
       " <Covid19Results: 150-040993578-8 1028.0>,\n",
       " <Covid19Results: 150-041971722-6 1014.0>,\n",
       " <Covid19Results: 150-040991803-2 1077.0>,\n",
       " <Covid19Results: 150-040993144-9 1007.0>,\n",
       " <Covid19Results: 150-040993534-1 1042.0>,\n",
       " <Covid19Results: 150-040991126-8 1014.0>,\n",
       " <Covid19Results: 150-043941146-1 1000.0>,\n",
       " <Covid19Results: 150-040992064-0 1014.0>,\n",
       " <Covid19Results: 150-043940004-3 1182.0>,\n",
       " <Covid19Results: 150-041970099-0 1007.0>,\n",
       " <Covid19Results: 150-040990844-7 1098.1>,\n",
       " <Covid19Results: 150-041970722-7 1084.0>,\n",
       " <Covid19Results: 150-040990546-8 1014.0>,\n",
       " <Covid19Results: 150-040990759-7 1098.0>,\n",
       " <Covid19Results: 150-041971192-2 1000.0>,\n",
       " <Covid19Results: 150-040990323-2 1007.0>,\n",
       " <Covid19Results: 150-042981024-3 1084.0>,\n",
       " <Covid19Results: 150-041971819-0 1000.0>,\n",
       " <Covid19Results: 150-040991215-9 1028.0>,\n",
       " <Covid19Results: 150-041971624-4 1007.0>]"
      ]
     },
     "execution_count": 65,
     "metadata": {},
     "output_type": "execute_result"
    }
   ],
   "source": [
    "missing_vaccination_details"
   ]
  },
  {
   "cell_type": "markdown",
   "id": "094aa650",
   "metadata": {},
   "source": [
    "## Medical History Rules\n",
    "\n",
    "#### Missing Concomitant medication"
   ]
  },
  {
   "cell_type": "code",
   "execution_count": null,
   "id": "e381a4cc",
   "metadata": {},
   "outputs": [],
   "source": [
    "\n",
    "\n",
    "\n",
    "missing_concomitant_medication = list()\n",
    "\n",
    "medical_histories = MedicalHistory.objects.filter(site_id__in=site_ids)\n",
    "\n",
    "for mh in medical_histories:\n",
    "    \n",
    "    concomitant_predicate = pc.fun_conc_med_required(mh.subject_visit)\n",
    "    \n",
    "    if concomitant_predicate:\n",
    "        \n",
    "        concomitant_exist = ConcomitantMedication.objects.filter(subject_visit=mh.subject_visit)\n",
    "        \n",
    "        if not concomitant_exist:\n",
    "            \n",
    "            missing_concomitant_medication.append(mh)\n",
    "    \n",
    "    \n"
   ]
  },
  {
   "cell_type": "code",
   "execution_count": 71,
   "id": "ac6b18d4",
   "metadata": {},
   "outputs": [
    {
     "data": {
      "text/plain": [
       "[<MedicalHistory: 150-043940128-0 1000.0>,\n",
       " <MedicalHistory: 150-043941507-4 1170.0>,\n",
       " <MedicalHistory: 150-042980988-0 1000.0>,\n",
       " <MedicalHistory: 150-043940317-9 1000.0>,\n",
       " <MedicalHistory: 150-041970141-0 1000.0>,\n",
       " <MedicalHistory: 150-044960198-6 1000.0>,\n",
       " <MedicalHistory: 150-041971869-5 1170.0>,\n",
       " <MedicalHistory: 150-041970753-2 1000.0>,\n",
       " <MedicalHistory: 150-041971877-8 1170.0>,\n",
       " <MedicalHistory: 150-041970070-1 1000.0>,\n",
       " <MedicalHistory: 150-042981283-5 1170.0>,\n",
       " <MedicalHistory: 150-042981059-9 1000.0>,\n",
       " <MedicalHistory: 150-041970082-6 1000.0>,\n",
       " <MedicalHistory: 150-044960626-6 1000.0>,\n",
       " <MedicalHistory: 150-040990892-6 1000.0>,\n",
       " <MedicalHistory: 150-040991111-0 1000.0>,\n",
       " <MedicalHistory: 150-042980019-4 1000.0>,\n",
       " <MedicalHistory: 150-040993019-3 1000.0>,\n",
       " <MedicalHistory: 150-042980074-9 1000.0>,\n",
       " <MedicalHistory: 150-044960725-6 1000.0>,\n",
       " <MedicalHistory: 150-041971865-3 1170.0>,\n",
       " <MedicalHistory: 150-042980549-0 1000.0>,\n",
       " <MedicalHistory: 150-041970869-6 1000.0>,\n",
       " <MedicalHistory: 150-041971832-3 1070.0>,\n",
       " <MedicalHistory: 150-041971857-0 1170.0>,\n",
       " <MedicalHistory: 150-042980485-7 1000.0>,\n",
       " <MedicalHistory: 150-044960193-7 1000.0>,\n",
       " <MedicalHistory: 150-041970451-3 1000.0>,\n",
       " <MedicalHistory: 150-044961019-3 1170.0>,\n",
       " <MedicalHistory: 150-041971868-7 1170.0>,\n",
       " <MedicalHistory: 150-041970016-4 1000.0>,\n",
       " <MedicalHistory: 150-042980895-7 1000.0>,\n",
       " <MedicalHistory: 150-041971559-2 1000.0>,\n",
       " <MedicalHistory: 150-044960018-6 1000.0>,\n",
       " <MedicalHistory: 150-041970409-1 1000.0>,\n",
       " <MedicalHistory: 150-041971861-2 1170.0>,\n",
       " <MedicalHistory: 150-041970148-5 1000.0>,\n",
       " <MedicalHistory: 150-041970686-4 1000.0>,\n",
       " <MedicalHistory: 150-041970273-1 1000.0>,\n",
       " <MedicalHistory: 150-044961011-0 1170.0>,\n",
       " <MedicalHistory: 150-040991125-0 1000.0>,\n",
       " <MedicalHistory: 150-041971870-3 1170.0>,\n",
       " <MedicalHistory: 150-041971158-3 1000.0>,\n",
       " <MedicalHistory: 150-041970146-9 1000.0>,\n",
       " <MedicalHistory: 150-041970280-6 1000.0>,\n",
       " <MedicalHistory: 150-040991217-5 1000.0>,\n",
       " <MedicalHistory: 150-041970167-5 1000.0>,\n",
       " <MedicalHistory: 150-040990806-6 1000.0>,\n",
       " <MedicalHistory: 150-043941495-2 1198.0>,\n",
       " <MedicalHistory: 150-041970277-2 1000.0>,\n",
       " <MedicalHistory: 150-042981306-4 1170.0>,\n",
       " <MedicalHistory: 150-041970308-5 1000.0>,\n",
       " <MedicalHistory: 150-041970249-1 1000.0>,\n",
       " <MedicalHistory: 150-044960247-1 1000.0>,\n",
       " <MedicalHistory: 150-040991220-9 1000.0>,\n",
       " <MedicalHistory: 150-041970383-8 1000.0>,\n",
       " <MedicalHistory: 150-042980597-9 1000.0>,\n",
       " <MedicalHistory: 150-041970797-9 1000.0>,\n",
       " <MedicalHistory: 150-041971084-1 1000.0>]"
      ]
     },
     "execution_count": 71,
     "metadata": {},
     "output_type": "execute_result"
    }
   ],
   "source": [
    "missing_concomitant_medication"
   ]
  },
  {
   "cell_type": "code",
   "execution_count": null,
   "id": "07670b43",
   "metadata": {},
   "outputs": [],
   "source": [
    "len(missing_concomitant_medication)"
   ]
  },
  {
   "cell_type": "markdown",
   "id": "ece3fc3d",
   "metadata": {},
   "source": [
    "## Pregnancy Status Rules\n",
    "#### Missing preg. test"
   ]
  },
  {
   "cell_type": "code",
   "execution_count": null,
   "id": "5ab9b797",
   "metadata": {},
   "outputs": [],
   "source": [
    "missing_pregnancy_tests = list()\n",
    "\n",
    "pregnancy_statuses = PregnancyStatus.objects.filter(site_id__in=site_ids)\n",
    "\n",
    "for pregnancy_status in pregnancy_statuses:\n",
    "    \n",
    "    pregnancy_test_predicate = pc.func_preg_test_required(subject_visit=pregnancy_status.subject_visit)\n",
    "    \n",
    "    if pregnancy_test_predicate:\n",
    "        \n",
    "        pregnancy_test_exists = PregnancyTest.objects.filter(subject_visit=pregnancy_status.subject_visit).exists()\n",
    "        \n",
    "        if not pregnancy_test_exists:\n",
    "            missing_pregnancy_tests.append(pregnancy_status)\n",
    "    "
   ]
  },
  {
   "cell_type": "code",
   "execution_count": null,
   "id": "04cb38fb",
   "metadata": {},
   "outputs": [],
   "source": [
    "missing_pregnancy_tests"
   ]
  },
  {
   "cell_type": "markdown",
   "id": "e6d30431",
   "metadata": {},
   "source": [
    "## Vaccination Details Rule\n",
    "#### Missing AE"
   ]
  },
  {
   "cell_type": "code",
   "execution_count": 74,
   "id": "2124f531",
   "metadata": {},
   "outputs": [
    {
     "name": "stdout",
     "output_type": "stream",
     "text": [
      "EncryptionError. Got Incorrect decryption. Got b\"Q\\xd2\\xb4\\x04L\\x1f\\x98\\xe2\\xac\\xfaa/5\\xda\\xce\\x19V\\xc3\\x8b>\\xd0L\\x9d\\x14f~\\x84\\x8a@\\xde\\xd5$\\xc6\\xben\\xe2\\x19\\xcde\\xea\\x07xT\\x12\\x81\\xb4\\xa2g\\xab\\x14\\x833\\x99\\xec\\xf5\\xa4\\\\\\xae\\xf8\\xcd\\x0c\\xe2\\x1e8\\xe8\\x00\\x12n]\\x84\\x91\\xc2#n\\xed\\x02\\x7fG\\xeeSU]3\\xa9 \\xb4\\xf7\\xa9\\xbc\\xd43\\x7f\\x98r\\x12M\\x93\\x9b\\xc61\\x8eU\\xd1og\\xd8M\\xac\\n\\x1fa`|\\x99\\xae R\\xa9L$\\xbe\\xe1\\xce^h\\xef\\xb1\\xe7\\xa3\\x18u\\xf2\\x9c\\xdb,^f\\x94<\\x93\\xb1[~\\x1a\\xde\\xd7\\xa8\\r\\x19g\\xcaO\\x01\\xd3S\\xc7\\\\\\x1a\\xa5w\\x12H\\xa0\\x18\\xe8\\x86\\x1d\\xc7\\x90\\xda\\xefO\\xd8\\\\!Ny{\\x1d\\x1b\\x1bP@1\\xc5\\x02{\\x1d\\xee\\xa4X@\\xb3\\xa4\\xb1\\xb5(FEj\\xfb\\x1eY'#\\x97\\x9e\\xb4\\xd2\\xdf \\x9a\\xff\\x0f\\xef:\\xb8\\xb5_v'\\xac\\x99\\xc2hdE\\xfbL\\xfe\\x10\\xfe;\\x11j\\xc2.>\\x05\\xfa\\xd6>\\x0c\\x17q\\xa8\\x98\\xc9\\xb7FO\\x03\\xa49\\x1f\\xbe\".\n"
     ]
    },
    {
     "ename": "EncryptionError",
     "evalue": "Incorrect decryption. Got b\"Q\\xd2\\xb4\\x04L\\x1f\\x98\\xe2\\xac\\xfaa/5\\xda\\xce\\x19V\\xc3\\x8b>\\xd0L\\x9d\\x14f~\\x84\\x8a@\\xde\\xd5$\\xc6\\xben\\xe2\\x19\\xcde\\xea\\x07xT\\x12\\x81\\xb4\\xa2g\\xab\\x14\\x833\\x99\\xec\\xf5\\xa4\\\\\\xae\\xf8\\xcd\\x0c\\xe2\\x1e8\\xe8\\x00\\x12n]\\x84\\x91\\xc2#n\\xed\\x02\\x7fG\\xeeSU]3\\xa9 \\xb4\\xf7\\xa9\\xbc\\xd43\\x7f\\x98r\\x12M\\x93\\x9b\\xc61\\x8eU\\xd1og\\xd8M\\xac\\n\\x1fa`|\\x99\\xae R\\xa9L$\\xbe\\xe1\\xce^h\\xef\\xb1\\xe7\\xa3\\x18u\\xf2\\x9c\\xdb,^f\\x94<\\x93\\xb1[~\\x1a\\xde\\xd7\\xa8\\r\\x19g\\xcaO\\x01\\xd3S\\xc7\\\\\\x1a\\xa5w\\x12H\\xa0\\x18\\xe8\\x86\\x1d\\xc7\\x90\\xda\\xefO\\xd8\\\\!Ny{\\x1d\\x1b\\x1bP@1\\xc5\\x02{\\x1d\\xee\\xa4X@\\xb3\\xa4\\xb1\\xb5(FEj\\xfb\\x1eY'#\\x97\\x9e\\xb4\\xd2\\xdf \\x9a\\xff\\x0f\\xef:\\xb8\\xb5_v'\\xac\\x99\\xc2hdE\\xfbL\\xfe\\x10\\xfe;\\x11j\\xc2.>\\x05\\xfa\\xd6>\\x0c\\x17q\\xa8\\x98\\xc9\\xb7FO\\x03\\xa49\\x1f\\xbe\".",
     "output_type": "error",
     "traceback": [
      "\u001b[0;31m---------------------------------------------------------------------------\u001b[0m",
      "\u001b[0;31mValueError\u001b[0m                                Traceback (most recent call last)",
      "File \u001b[0;32m~/opt/anaconda3/envs/esr21/lib/python3.10/site-packages/django_crypto_fields/cryptor.py:111\u001b[0m, in \u001b[0;36mCryptor.rsa_decrypt\u001b[0;34m(self, ciphertext, mode)\u001b[0m\n\u001b[1;32m    110\u001b[0m \u001b[38;5;28;01mtry\u001b[39;00m:\n\u001b[0;32m--> 111\u001b[0m     plaintext \u001b[38;5;241m=\u001b[39m \u001b[38;5;28;43mgetattr\u001b[39;49m\u001b[43m(\u001b[49m\u001b[38;5;28;43mself\u001b[39;49m\u001b[38;5;241;43m.\u001b[39;49m\u001b[43mkeys\u001b[49m\u001b[43m,\u001b[49m\u001b[43m \u001b[49m\u001b[43mrsa_key\u001b[49m\u001b[43m)\u001b[49m\u001b[38;5;241;43m.\u001b[39;49m\u001b[43mdecrypt\u001b[49m\u001b[43m(\u001b[49m\u001b[43mciphertext\u001b[49m\u001b[43m)\u001b[49m\n\u001b[1;32m    112\u001b[0m \u001b[38;5;28;01mexcept\u001b[39;00m \u001b[38;5;167;01mValueError\u001b[39;00m \u001b[38;5;28;01mas\u001b[39;00m e:\n",
      "File \u001b[0;32m~/opt/anaconda3/envs/esr21/lib/python3.10/site-packages/Crypto/Cipher/PKCS1_OAEP.py:200\u001b[0m, in \u001b[0;36mPKCS1OAEP_Cipher.decrypt\u001b[0;34m(self, ciphertext)\u001b[0m\n\u001b[1;32m    199\u001b[0m \u001b[38;5;28;01mif\u001b[39;00m invalid \u001b[38;5;241m!=\u001b[39m \u001b[38;5;241m0\u001b[39m:\n\u001b[0;32m--> 200\u001b[0m     \u001b[38;5;28;01mraise\u001b[39;00m \u001b[38;5;167;01mValueError\u001b[39;00m(\u001b[38;5;124m\"\u001b[39m\u001b[38;5;124mIncorrect decryption.\u001b[39m\u001b[38;5;124m\"\u001b[39m)\n\u001b[1;32m    201\u001b[0m \u001b[38;5;66;03m# Step 4\u001b[39;00m\n",
      "\u001b[0;31mValueError\u001b[0m: Incorrect decryption.",
      "\nDuring handling of the above exception, another exception occurred:\n",
      "\u001b[0;31mEncryptionError\u001b[0m                           Traceback (most recent call last)",
      "Input \u001b[0;32mIn [74]\u001b[0m, in \u001b[0;36m<cell line: 7>\u001b[0;34m()\u001b[0m\n\u001b[1;32m      3\u001b[0m vaccination_details \u001b[38;5;241m=\u001b[39m VaccinationDetails\u001b[38;5;241m.\u001b[39mobjects\u001b[38;5;241m.\u001b[39mfilter(adverse_event \u001b[38;5;241m=\u001b[39m YES)\n\u001b[1;32m      5\u001b[0m missing_ae \u001b[38;5;241m=\u001b[39m []\n\u001b[0;32m----> 7\u001b[0m \u001b[38;5;28;01mfor\u001b[39;00m crf \u001b[38;5;129;01min\u001b[39;00m vaccination_details:\n\u001b[1;32m      9\u001b[0m     adverse_event_exist \u001b[38;5;241m=\u001b[39m AdverseEvent\u001b[38;5;241m.\u001b[39mobjects\u001b[38;5;241m.\u001b[39mfilter(subject_visit\u001b[38;5;241m=\u001b[39mcrf\u001b[38;5;241m.\u001b[39msubject_visit)\n\u001b[1;32m     11\u001b[0m     \u001b[38;5;28;01mif\u001b[39;00m \u001b[38;5;129;01mnot\u001b[39;00m adverse_event_exist:\n",
      "File \u001b[0;32m~/opt/anaconda3/envs/esr21/lib/python3.10/site-packages/django/db/models/query.py:287\u001b[0m, in \u001b[0;36mQuerySet.__iter__\u001b[0;34m(self)\u001b[0m\n\u001b[1;32m    272\u001b[0m \u001b[38;5;28;01mdef\u001b[39;00m \u001b[38;5;21m__iter__\u001b[39m(\u001b[38;5;28mself\u001b[39m):\n\u001b[1;32m    273\u001b[0m     \u001b[38;5;124;03m\"\"\"\u001b[39;00m\n\u001b[1;32m    274\u001b[0m \u001b[38;5;124;03m    The queryset iterator protocol uses three nested iterators in the\u001b[39;00m\n\u001b[1;32m    275\u001b[0m \u001b[38;5;124;03m    default case:\u001b[39;00m\n\u001b[0;32m   (...)\u001b[0m\n\u001b[1;32m    285\u001b[0m \u001b[38;5;124;03m           - Responsible for turning the rows into model objects.\u001b[39;00m\n\u001b[1;32m    286\u001b[0m \u001b[38;5;124;03m    \"\"\"\u001b[39;00m\n\u001b[0;32m--> 287\u001b[0m     \u001b[38;5;28;43mself\u001b[39;49m\u001b[38;5;241;43m.\u001b[39;49m\u001b[43m_fetch_all\u001b[49m\u001b[43m(\u001b[49m\u001b[43m)\u001b[49m\n\u001b[1;32m    288\u001b[0m     \u001b[38;5;28;01mreturn\u001b[39;00m \u001b[38;5;28miter\u001b[39m(\u001b[38;5;28mself\u001b[39m\u001b[38;5;241m.\u001b[39m_result_cache)\n",
      "File \u001b[0;32m~/opt/anaconda3/envs/esr21/lib/python3.10/site-packages/django/db/models/query.py:1308\u001b[0m, in \u001b[0;36mQuerySet._fetch_all\u001b[0;34m(self)\u001b[0m\n\u001b[1;32m   1306\u001b[0m \u001b[38;5;28;01mdef\u001b[39;00m \u001b[38;5;21m_fetch_all\u001b[39m(\u001b[38;5;28mself\u001b[39m):\n\u001b[1;32m   1307\u001b[0m     \u001b[38;5;28;01mif\u001b[39;00m \u001b[38;5;28mself\u001b[39m\u001b[38;5;241m.\u001b[39m_result_cache \u001b[38;5;129;01mis\u001b[39;00m \u001b[38;5;28;01mNone\u001b[39;00m:\n\u001b[0;32m-> 1308\u001b[0m         \u001b[38;5;28mself\u001b[39m\u001b[38;5;241m.\u001b[39m_result_cache \u001b[38;5;241m=\u001b[39m \u001b[38;5;28;43mlist\u001b[39;49m\u001b[43m(\u001b[49m\u001b[38;5;28;43mself\u001b[39;49m\u001b[38;5;241;43m.\u001b[39;49m\u001b[43m_iterable_class\u001b[49m\u001b[43m(\u001b[49m\u001b[38;5;28;43mself\u001b[39;49m\u001b[43m)\u001b[49m\u001b[43m)\u001b[49m\n\u001b[1;32m   1309\u001b[0m     \u001b[38;5;28;01mif\u001b[39;00m \u001b[38;5;28mself\u001b[39m\u001b[38;5;241m.\u001b[39m_prefetch_related_lookups \u001b[38;5;129;01mand\u001b[39;00m \u001b[38;5;129;01mnot\u001b[39;00m \u001b[38;5;28mself\u001b[39m\u001b[38;5;241m.\u001b[39m_prefetch_done:\n\u001b[1;32m   1310\u001b[0m         \u001b[38;5;28mself\u001b[39m\u001b[38;5;241m.\u001b[39m_prefetch_related_objects()\n",
      "File \u001b[0;32m~/opt/anaconda3/envs/esr21/lib/python3.10/site-packages/django/db/models/query.py:70\u001b[0m, in \u001b[0;36mModelIterable.__iter__\u001b[0;34m(self)\u001b[0m\n\u001b[1;32m     61\u001b[0m related_populators \u001b[38;5;241m=\u001b[39m get_related_populators(klass_info, select, db)\n\u001b[1;32m     62\u001b[0m known_related_objects \u001b[38;5;241m=\u001b[39m [\n\u001b[1;32m     63\u001b[0m     (field, related_objs, operator\u001b[38;5;241m.\u001b[39mattrgetter(\u001b[38;5;241m*\u001b[39m[\n\u001b[1;32m     64\u001b[0m         field\u001b[38;5;241m.\u001b[39mattname\n\u001b[0;32m   (...)\u001b[0m\n\u001b[1;32m     68\u001b[0m     ])) \u001b[38;5;28;01mfor\u001b[39;00m field, related_objs \u001b[38;5;129;01min\u001b[39;00m queryset\u001b[38;5;241m.\u001b[39m_known_related_objects\u001b[38;5;241m.\u001b[39mitems()\n\u001b[1;32m     69\u001b[0m ]\n\u001b[0;32m---> 70\u001b[0m \u001b[38;5;28;01mfor\u001b[39;00m row \u001b[38;5;129;01min\u001b[39;00m compiler\u001b[38;5;241m.\u001b[39mresults_iter(results):\n\u001b[1;32m     71\u001b[0m     obj \u001b[38;5;241m=\u001b[39m model_cls\u001b[38;5;241m.\u001b[39mfrom_db(db, init_list, row[model_fields_start:model_fields_end])\n\u001b[1;32m     72\u001b[0m     \u001b[38;5;28;01mfor\u001b[39;00m rel_populator \u001b[38;5;129;01min\u001b[39;00m related_populators:\n",
      "File \u001b[0;32m~/opt/anaconda3/envs/esr21/lib/python3.10/site-packages/django/db/models/sql/compiler.py:1100\u001b[0m, in \u001b[0;36mSQLCompiler.apply_converters\u001b[0;34m(self, rows, converters)\u001b[0m\n\u001b[1;32m   1098\u001b[0m     value \u001b[38;5;241m=\u001b[39m row[pos]\n\u001b[1;32m   1099\u001b[0m     \u001b[38;5;28;01mfor\u001b[39;00m converter \u001b[38;5;129;01min\u001b[39;00m convs:\n\u001b[0;32m-> 1100\u001b[0m         value \u001b[38;5;241m=\u001b[39m \u001b[43mconverter\u001b[49m\u001b[43m(\u001b[49m\u001b[43mvalue\u001b[49m\u001b[43m,\u001b[49m\u001b[43m \u001b[49m\u001b[43mexpression\u001b[49m\u001b[43m,\u001b[49m\u001b[43m \u001b[49m\u001b[43mconnection\u001b[49m\u001b[43m)\u001b[49m\n\u001b[1;32m   1101\u001b[0m     row[pos] \u001b[38;5;241m=\u001b[39m value\n\u001b[1;32m   1102\u001b[0m \u001b[38;5;28;01myield\u001b[39;00m row\n",
      "File \u001b[0;32m~/opt/anaconda3/envs/esr21/lib/python3.10/site-packages/django_crypto_fields/fields/base_field.py:96\u001b[0m, in \u001b[0;36mBaseField.from_db_value\u001b[0;34m(self, value, *args)\u001b[0m\n\u001b[1;32m     94\u001b[0m \u001b[38;5;28;01mif\u001b[39;00m value \u001b[38;5;129;01mis\u001b[39;00m \u001b[38;5;28;01mNone\u001b[39;00m \u001b[38;5;129;01mor\u001b[39;00m value \u001b[38;5;129;01min\u001b[39;00m [\u001b[38;5;124m'\u001b[39m\u001b[38;5;124m'\u001b[39m, \u001b[38;5;124mb\u001b[39m\u001b[38;5;124m'\u001b[39m\u001b[38;5;124m'\u001b[39m]:\n\u001b[1;32m     95\u001b[0m     \u001b[38;5;28;01mreturn\u001b[39;00m value\n\u001b[0;32m---> 96\u001b[0m \u001b[38;5;28;01mreturn\u001b[39;00m \u001b[38;5;28;43mself\u001b[39;49m\u001b[38;5;241;43m.\u001b[39;49m\u001b[43mdecrypt\u001b[49m\u001b[43m(\u001b[49m\u001b[43mvalue\u001b[49m\u001b[43m)\u001b[49m\n",
      "File \u001b[0;32m~/opt/anaconda3/envs/esr21/lib/python3.10/site-packages/django_crypto_fields/fields/base_field.py:71\u001b[0m, in \u001b[0;36mBaseField.decrypt\u001b[0;34m(self, value)\u001b[0m\n\u001b[1;32m     69\u001b[0m     \u001b[38;5;28;01mreturn\u001b[39;00m value\n\u001b[1;32m     70\u001b[0m \u001b[38;5;28;01mtry\u001b[39;00m:\n\u001b[0;32m---> 71\u001b[0m     decrypted_value \u001b[38;5;241m=\u001b[39m \u001b[38;5;28;43mself\u001b[39;49m\u001b[38;5;241;43m.\u001b[39;49m\u001b[43mfield_cryptor\u001b[49m\u001b[38;5;241;43m.\u001b[39;49m\u001b[43mdecrypt\u001b[49m\u001b[43m(\u001b[49m\u001b[43mvalue\u001b[49m\u001b[43m)\u001b[49m\n\u001b[1;32m     72\u001b[0m     \u001b[38;5;28;01mif\u001b[39;00m \u001b[38;5;129;01mnot\u001b[39;00m decrypted_value:\n\u001b[1;32m     73\u001b[0m         \u001b[38;5;28mself\u001b[39m\u001b[38;5;241m.\u001b[39mreadonly \u001b[38;5;241m=\u001b[39m \u001b[38;5;28;01mTrue\u001b[39;00m  \u001b[38;5;66;03m# did not decrypt\u001b[39;00m\n",
      "File \u001b[0;32m~/opt/anaconda3/envs/esr21/lib/python3.10/site-packages/django_crypto_fields/field_cryptor.py:148\u001b[0m, in \u001b[0;36mFieldCryptor.decrypt\u001b[0;34m(self, hash_with_prefix)\u001b[0m\n\u001b[1;32m    146\u001b[0m     plaintext \u001b[38;5;241m=\u001b[39m \u001b[38;5;28mself\u001b[39m\u001b[38;5;241m.\u001b[39mcryptor\u001b[38;5;241m.\u001b[39maes_decrypt(secret, \u001b[38;5;28mself\u001b[39m\u001b[38;5;241m.\u001b[39mmode)\n\u001b[1;32m    147\u001b[0m \u001b[38;5;28;01melif\u001b[39;00m \u001b[38;5;28mself\u001b[39m\u001b[38;5;241m.\u001b[39malgorithm \u001b[38;5;241m==\u001b[39m RSA:\n\u001b[0;32m--> 148\u001b[0m     plaintext \u001b[38;5;241m=\u001b[39m \u001b[38;5;28;43mself\u001b[39;49m\u001b[38;5;241;43m.\u001b[39;49m\u001b[43mcryptor\u001b[49m\u001b[38;5;241;43m.\u001b[39;49m\u001b[43mrsa_decrypt\u001b[49m\u001b[43m(\u001b[49m\u001b[43msecret\u001b[49m\u001b[43m,\u001b[49m\u001b[43m \u001b[49m\u001b[38;5;28;43mself\u001b[39;49m\u001b[38;5;241;43m.\u001b[39;49m\u001b[43mmode\u001b[49m\u001b[43m)\u001b[49m\n\u001b[1;32m    149\u001b[0m \u001b[38;5;28;01melse\u001b[39;00m:\n\u001b[1;32m    150\u001b[0m     \u001b[38;5;28;01mraise\u001b[39;00m CipherError(\n\u001b[1;32m    151\u001b[0m         \u001b[38;5;124m'\u001b[39m\u001b[38;5;124mCannot determine algorithm for decryption.\u001b[39m\u001b[38;5;124m'\u001b[39m\n\u001b[1;32m    152\u001b[0m         \u001b[38;5;124m'\u001b[39m\u001b[38;5;124m Valid options are \u001b[39m\u001b[38;5;132;01m{0}\u001b[39;00m\u001b[38;5;124m. Got \u001b[39m\u001b[38;5;132;01m{1}\u001b[39;00m\u001b[38;5;124m'\u001b[39m\u001b[38;5;241m.\u001b[39mformat(\n\u001b[1;32m    153\u001b[0m             \u001b[38;5;124m'\u001b[39m\u001b[38;5;124m, \u001b[39m\u001b[38;5;124m'\u001b[39m\u001b[38;5;241m.\u001b[39mjoin(\u001b[38;5;28mlist\u001b[39m(\u001b[38;5;28mself\u001b[39m\u001b[38;5;241m.\u001b[39mkeys\u001b[38;5;241m.\u001b[39mkey_filenames)), \u001b[38;5;28mself\u001b[39m\u001b[38;5;241m.\u001b[39malgorithm))\n",
      "File \u001b[0;32m~/opt/anaconda3/envs/esr21/lib/python3.10/site-packages/django_crypto_fields/cryptor.py:113\u001b[0m, in \u001b[0;36mCryptor.rsa_decrypt\u001b[0;34m(self, ciphertext, mode)\u001b[0m\n\u001b[1;32m    111\u001b[0m     plaintext \u001b[38;5;241m=\u001b[39m \u001b[38;5;28mgetattr\u001b[39m(\u001b[38;5;28mself\u001b[39m\u001b[38;5;241m.\u001b[39mkeys, rsa_key)\u001b[38;5;241m.\u001b[39mdecrypt(ciphertext)\n\u001b[1;32m    112\u001b[0m \u001b[38;5;28;01mexcept\u001b[39;00m \u001b[38;5;167;01mValueError\u001b[39;00m \u001b[38;5;28;01mas\u001b[39;00m e:\n\u001b[0;32m--> 113\u001b[0m     \u001b[38;5;28;01mraise\u001b[39;00m EncryptionError(\u001b[38;5;124m'\u001b[39m\u001b[38;5;132;01m{}\u001b[39;00m\u001b[38;5;124m Got \u001b[39m\u001b[38;5;132;01m{}\u001b[39;00m\u001b[38;5;124m.\u001b[39m\u001b[38;5;124m'\u001b[39m\u001b[38;5;241m.\u001b[39mformat(\u001b[38;5;28mstr\u001b[39m(e), ciphertext))\n\u001b[1;32m    114\u001b[0m \u001b[38;5;28;01mreturn\u001b[39;00m plaintext\u001b[38;5;241m.\u001b[39mdecode(ENCODING)\n",
      "\u001b[0;31mEncryptionError\u001b[0m: Incorrect decryption. Got b\"Q\\xd2\\xb4\\x04L\\x1f\\x98\\xe2\\xac\\xfaa/5\\xda\\xce\\x19V\\xc3\\x8b>\\xd0L\\x9d\\x14f~\\x84\\x8a@\\xde\\xd5$\\xc6\\xben\\xe2\\x19\\xcde\\xea\\x07xT\\x12\\x81\\xb4\\xa2g\\xab\\x14\\x833\\x99\\xec\\xf5\\xa4\\\\\\xae\\xf8\\xcd\\x0c\\xe2\\x1e8\\xe8\\x00\\x12n]\\x84\\x91\\xc2#n\\xed\\x02\\x7fG\\xeeSU]3\\xa9 \\xb4\\xf7\\xa9\\xbc\\xd43\\x7f\\x98r\\x12M\\x93\\x9b\\xc61\\x8eU\\xd1og\\xd8M\\xac\\n\\x1fa`|\\x99\\xae R\\xa9L$\\xbe\\xe1\\xce^h\\xef\\xb1\\xe7\\xa3\\x18u\\xf2\\x9c\\xdb,^f\\x94<\\x93\\xb1[~\\x1a\\xde\\xd7\\xa8\\r\\x19g\\xcaO\\x01\\xd3S\\xc7\\\\\\x1a\\xa5w\\x12H\\xa0\\x18\\xe8\\x86\\x1d\\xc7\\x90\\xda\\xefO\\xd8\\\\!Ny{\\x1d\\x1b\\x1bP@1\\xc5\\x02{\\x1d\\xee\\xa4X@\\xb3\\xa4\\xb1\\xb5(FEj\\xfb\\x1eY'#\\x97\\x9e\\xb4\\xd2\\xdf \\x9a\\xff\\x0f\\xef:\\xb8\\xb5_v'\\xac\\x99\\xc2hdE\\xfbL\\xfe\\x10\\xfe;\\x11j\\xc2.>\\x05\\xfa\\xd6>\\x0c\\x17q\\xa8\\x98\\xc9\\xb7FO\\x03\\xa49\\x1f\\xbe\"."
     ]
    }
   ],
   "source": [
    "from edc_constants.constants import YES\n",
    "\n",
    "vaccination_details = VaccinationDetails.objects.filter(adverse_event = YES)\n",
    "\n",
    "missing_ae = []\n",
    "\n",
    "for crf in vaccination_details:\n",
    "    \n",
    "    adverse_event_exist = AdverseEvent.objects.filter(subject_visit=crf.subject_visit)\n",
    "    \n",
    "    if not adverse_event_exist:\n",
    "        missing_ae.append(crf)\n",
    "        \n"
   ]
  },
  {
   "cell_type": "code",
   "execution_count": null,
   "id": "c04ee66d",
   "metadata": {},
   "outputs": [],
   "source": [
    "missing_ae"
   ]
  },
  {
   "cell_type": "markdown",
   "id": "13abae6a",
   "metadata": {},
   "source": [
    "## Subject Visit Rule\n",
    "#### Missing preg. status, vaccination details, physical details, preg. outcome, demographicdata, rapid hiv testing and covid prev and medical history"
   ]
  },
  {
   "cell_type": "code",
   "execution_count": 75,
   "id": "2e9e8475",
   "metadata": {},
   "outputs": [
    {
     "name": "stdout",
     "output_type": "stream",
     "text": [
      "EncryptionError. Got Incorrect decryption. Got b\"5\\x92\\xf7<?n\\x0c\\x87\\x1d\\xa8ck\\xe4\\x18\\xd3g\\xd2\\xe09\\xb7z\\xbb\\x92G\\xd5\\xff/\\xa35Dq\\xe9/Nv\\xa7,h\\x9b\\x8df\\x82\\x9b A$\\x1b\\xef\\x8a8K\\x83:a\\xaf\\x8cO\\x04\\x05\\xcci\\x99\\\\1\\x9b_\\xd6\\x9a\\x98/\\x8d\\xf6\\x8bV\\x94\\xd2\\x87\\xd3\\xbbl\\x9b1K\\x91\\xf4\\xd6A\\x13TDU\\xcd\\x16\\xab4\\xe3\\x12\\xb3\\xeb\\x16\\xeb\\x0eh\\x08\\xd3\\xee\\x9e\\xe9C\\xc2\\xbb\\xbeM\\xe45S_\\xc3\\x17\\xdb~\\x84\\xf3\\x07\\x90\\xa3\\xf5c\\xec\\xcd\\x8ci\\x8f0\\xf4\\xb8C\\xdd\\xff\\xae\\x936E0\\xcc\\xc3L\\xf7u7ii\\xcf\\xd6\\xed\\x82o\\x8d\\xbcFLeD\\x1a>\\\\h\\x0f\\xd6\\xb7\\xda\\x17\\x08\\xb4\\x94|<\\xa5\\xb1\\x1c\\x1e\\x1e'PA \\xe1\\xfa\\xe8X\\xdbm\\xf6\\x99\\xf3\\xf0\\x87\\x0b\\xb9\\xf6E\\xc7\\xf7G\\xa4\\x17\\xdf\\x1b\\x04a\\x9c]\\x14~\\x8c\\xf5\\x0b7\\xf5\\xb3\\xda\\x0e\\xcf\\x84\\xe6\\x99\\x96c\\xba~3\\x03\\xf0\\x86\\xd4\\xaf\\x89\\x01\\xde\\xb3\\xb8l\\xd3\\xae\\x10\\xdbC1S5N\\xaf=R\\xc1v\".\n"
     ]
    },
    {
     "ename": "EncryptionError",
     "evalue": "Incorrect decryption. Got b\"5\\x92\\xf7<?n\\x0c\\x87\\x1d\\xa8ck\\xe4\\x18\\xd3g\\xd2\\xe09\\xb7z\\xbb\\x92G\\xd5\\xff/\\xa35Dq\\xe9/Nv\\xa7,h\\x9b\\x8df\\x82\\x9b A$\\x1b\\xef\\x8a8K\\x83:a\\xaf\\x8cO\\x04\\x05\\xcci\\x99\\\\1\\x9b_\\xd6\\x9a\\x98/\\x8d\\xf6\\x8bV\\x94\\xd2\\x87\\xd3\\xbbl\\x9b1K\\x91\\xf4\\xd6A\\x13TDU\\xcd\\x16\\xab4\\xe3\\x12\\xb3\\xeb\\x16\\xeb\\x0eh\\x08\\xd3\\xee\\x9e\\xe9C\\xc2\\xbb\\xbeM\\xe45S_\\xc3\\x17\\xdb~\\x84\\xf3\\x07\\x90\\xa3\\xf5c\\xec\\xcd\\x8ci\\x8f0\\xf4\\xb8C\\xdd\\xff\\xae\\x936E0\\xcc\\xc3L\\xf7u7ii\\xcf\\xd6\\xed\\x82o\\x8d\\xbcFLeD\\x1a>\\\\h\\x0f\\xd6\\xb7\\xda\\x17\\x08\\xb4\\x94|<\\xa5\\xb1\\x1c\\x1e\\x1e'PA \\xe1\\xfa\\xe8X\\xdbm\\xf6\\x99\\xf3\\xf0\\x87\\x0b\\xb9\\xf6E\\xc7\\xf7G\\xa4\\x17\\xdf\\x1b\\x04a\\x9c]\\x14~\\x8c\\xf5\\x0b7\\xf5\\xb3\\xda\\x0e\\xcf\\x84\\xe6\\x99\\x96c\\xba~3\\x03\\xf0\\x86\\xd4\\xaf\\x89\\x01\\xde\\xb3\\xb8l\\xd3\\xae\\x10\\xdbC1S5N\\xaf=R\\xc1v\".",
     "output_type": "error",
     "traceback": [
      "\u001b[0;31m---------------------------------------------------------------------------\u001b[0m",
      "\u001b[0;31mValueError\u001b[0m                                Traceback (most recent call last)",
      "File \u001b[0;32m~/opt/anaconda3/envs/esr21/lib/python3.10/site-packages/django_crypto_fields/cryptor.py:111\u001b[0m, in \u001b[0;36mCryptor.rsa_decrypt\u001b[0;34m(self, ciphertext, mode)\u001b[0m\n\u001b[1;32m    110\u001b[0m \u001b[38;5;28;01mtry\u001b[39;00m:\n\u001b[0;32m--> 111\u001b[0m     plaintext \u001b[38;5;241m=\u001b[39m \u001b[38;5;28;43mgetattr\u001b[39;49m\u001b[43m(\u001b[49m\u001b[38;5;28;43mself\u001b[39;49m\u001b[38;5;241;43m.\u001b[39;49m\u001b[43mkeys\u001b[49m\u001b[43m,\u001b[49m\u001b[43m \u001b[49m\u001b[43mrsa_key\u001b[49m\u001b[43m)\u001b[49m\u001b[38;5;241;43m.\u001b[39;49m\u001b[43mdecrypt\u001b[49m\u001b[43m(\u001b[49m\u001b[43mciphertext\u001b[49m\u001b[43m)\u001b[49m\n\u001b[1;32m    112\u001b[0m \u001b[38;5;28;01mexcept\u001b[39;00m \u001b[38;5;167;01mValueError\u001b[39;00m \u001b[38;5;28;01mas\u001b[39;00m e:\n",
      "File \u001b[0;32m~/opt/anaconda3/envs/esr21/lib/python3.10/site-packages/Crypto/Cipher/PKCS1_OAEP.py:200\u001b[0m, in \u001b[0;36mPKCS1OAEP_Cipher.decrypt\u001b[0;34m(self, ciphertext)\u001b[0m\n\u001b[1;32m    199\u001b[0m \u001b[38;5;28;01mif\u001b[39;00m invalid \u001b[38;5;241m!=\u001b[39m \u001b[38;5;241m0\u001b[39m:\n\u001b[0;32m--> 200\u001b[0m     \u001b[38;5;28;01mraise\u001b[39;00m \u001b[38;5;167;01mValueError\u001b[39;00m(\u001b[38;5;124m\"\u001b[39m\u001b[38;5;124mIncorrect decryption.\u001b[39m\u001b[38;5;124m\"\u001b[39m)\n\u001b[1;32m    201\u001b[0m \u001b[38;5;66;03m# Step 4\u001b[39;00m\n",
      "\u001b[0;31mValueError\u001b[0m: Incorrect decryption.",
      "\nDuring handling of the above exception, another exception occurred:\n",
      "\u001b[0;31mEncryptionError\u001b[0m                           Traceback (most recent call last)",
      "Input \u001b[0;32mIn [75]\u001b[0m, in \u001b[0;36m<cell line: 3>\u001b[0;34m()\u001b[0m\n\u001b[1;32m      1\u001b[0m subject_visits \u001b[38;5;241m=\u001b[39m SubjectVisit\u001b[38;5;241m.\u001b[39mobjects\u001b[38;5;241m.\u001b[39mfilter(site_id__in\u001b[38;5;241m=\u001b[39msite_ids)\n\u001b[1;32m      3\u001b[0m \u001b[38;5;28;01mfor\u001b[39;00m visit \u001b[38;5;129;01min\u001b[39;00m subject_visits:\n\u001b[0;32m----> 5\u001b[0m     pregnancy_predicate \u001b[38;5;241m=\u001b[39m \u001b[43mpc\u001b[49m\u001b[38;5;241;43m.\u001b[39;49m\u001b[43mfunc_participant_female\u001b[49m\u001b[43m(\u001b[49m\u001b[43mvisit\u001b[49m\u001b[43m)\u001b[49m\n\u001b[1;32m      7\u001b[0m     covid_symptoms_predicate \u001b[38;5;241m=\u001b[39m pc\u001b[38;5;241m.\u001b[39mfunc_symptomatic_infection_enrol(visit)\n\u001b[1;32m      9\u001b[0m     preg_outcome_predicate \u001b[38;5;241m=\u001b[39m pc\u001b[38;5;241m.\u001b[39mfunc_preg_outcome_required(visit)\n",
      "File \u001b[0;32m~/opt/anaconda3/envs/esr21/lib/python3.10/site-packages/esr21_metadata_rules/predicates/subject_predicates.py:29\u001b[0m, in \u001b[0;36mSubjectPredicates.func_participant_female\u001b[0;34m(self, visit, **kwargs)\u001b[0m\n\u001b[1;32m     25\u001b[0m informed_consent_cls \u001b[38;5;241m=\u001b[39m django_apps\u001b[38;5;241m.\u001b[39mget_model(\u001b[38;5;124m'\u001b[39m\u001b[38;5;124mesr21_subject.informedconsent\u001b[39m\u001b[38;5;124m'\u001b[39m)\n\u001b[1;32m     27\u001b[0m \u001b[38;5;28;01mtry\u001b[39;00m:\n\u001b[1;32m     28\u001b[0m     informed_consent_obj \u001b[38;5;241m=\u001b[39m \u001b[43minformed_consent_cls\u001b[49m\u001b[38;5;241;43m.\u001b[39;49m\u001b[43mobjects\u001b[49m\u001b[38;5;241;43m.\u001b[39;49m\u001b[43mfilter\u001b[49m\u001b[43m(\u001b[49m\n\u001b[0;32m---> 29\u001b[0m \u001b[43m        \u001b[49m\u001b[43msubject_identifier\u001b[49m\u001b[38;5;241;43m=\u001b[39;49m\u001b[43mvisit\u001b[49m\u001b[38;5;241;43m.\u001b[39;49m\u001b[43mappointment\u001b[49m\u001b[38;5;241;43m.\u001b[39;49m\u001b[43msubject_identifier\u001b[49m\u001b[43m)\u001b[49m\u001b[38;5;241;43m.\u001b[39;49m\u001b[43mlatest\u001b[49m\u001b[43m(\u001b[49m\u001b[38;5;124;43m'\u001b[39;49m\u001b[38;5;124;43mcreated\u001b[39;49m\u001b[38;5;124;43m'\u001b[39;49m\u001b[43m)\u001b[49m\n\u001b[1;32m     30\u001b[0m \u001b[38;5;28;01mexcept\u001b[39;00m informed_consent_cls\u001b[38;5;241m.\u001b[39mDoesNotExist:\n\u001b[1;32m     31\u001b[0m     \u001b[38;5;28;01mreturn\u001b[39;00m \u001b[38;5;28;01mFalse\u001b[39;00m\n",
      "File \u001b[0;32m~/opt/anaconda3/envs/esr21/lib/python3.10/site-packages/django/db/models/query.py:674\u001b[0m, in \u001b[0;36mQuerySet.latest\u001b[0;34m(self, *fields)\u001b[0m\n\u001b[1;32m    673\u001b[0m \u001b[38;5;28;01mdef\u001b[39;00m \u001b[38;5;21mlatest\u001b[39m(\u001b[38;5;28mself\u001b[39m, \u001b[38;5;241m*\u001b[39mfields):\n\u001b[0;32m--> 674\u001b[0m     \u001b[38;5;28;01mreturn\u001b[39;00m \u001b[38;5;28;43mself\u001b[39;49m\u001b[38;5;241;43m.\u001b[39;49m\u001b[43mreverse\u001b[49m\u001b[43m(\u001b[49m\u001b[43m)\u001b[49m\u001b[38;5;241;43m.\u001b[39;49m\u001b[43m_earliest\u001b[49m\u001b[43m(\u001b[49m\u001b[38;5;241;43m*\u001b[39;49m\u001b[43mfields\u001b[49m\u001b[43m)\u001b[49m\n",
      "File \u001b[0;32m~/opt/anaconda3/envs/esr21/lib/python3.10/site-packages/django/db/models/query.py:668\u001b[0m, in \u001b[0;36mQuerySet._earliest\u001b[0;34m(self, *fields)\u001b[0m\n\u001b[1;32m    666\u001b[0m obj\u001b[38;5;241m.\u001b[39mquery\u001b[38;5;241m.\u001b[39mclear_ordering(force_empty\u001b[38;5;241m=\u001b[39m\u001b[38;5;28;01mTrue\u001b[39;00m)\n\u001b[1;32m    667\u001b[0m obj\u001b[38;5;241m.\u001b[39mquery\u001b[38;5;241m.\u001b[39madd_ordering(\u001b[38;5;241m*\u001b[39morder_by)\n\u001b[0;32m--> 668\u001b[0m \u001b[38;5;28;01mreturn\u001b[39;00m \u001b[43mobj\u001b[49m\u001b[38;5;241;43m.\u001b[39;49m\u001b[43mget\u001b[49m\u001b[43m(\u001b[49m\u001b[43m)\u001b[49m\n",
      "File \u001b[0;32m~/opt/anaconda3/envs/esr21/lib/python3.10/site-packages/django/db/models/query.py:425\u001b[0m, in \u001b[0;36mQuerySet.get\u001b[0;34m(self, *args, **kwargs)\u001b[0m\n\u001b[1;32m    423\u001b[0m     limit \u001b[38;5;241m=\u001b[39m MAX_GET_RESULTS\n\u001b[1;32m    424\u001b[0m     clone\u001b[38;5;241m.\u001b[39mquery\u001b[38;5;241m.\u001b[39mset_limits(high\u001b[38;5;241m=\u001b[39mlimit)\n\u001b[0;32m--> 425\u001b[0m num \u001b[38;5;241m=\u001b[39m \u001b[38;5;28;43mlen\u001b[39;49m\u001b[43m(\u001b[49m\u001b[43mclone\u001b[49m\u001b[43m)\u001b[49m\n\u001b[1;32m    426\u001b[0m \u001b[38;5;28;01mif\u001b[39;00m num \u001b[38;5;241m==\u001b[39m \u001b[38;5;241m1\u001b[39m:\n\u001b[1;32m    427\u001b[0m     \u001b[38;5;28;01mreturn\u001b[39;00m clone\u001b[38;5;241m.\u001b[39m_result_cache[\u001b[38;5;241m0\u001b[39m]\n",
      "File \u001b[0;32m~/opt/anaconda3/envs/esr21/lib/python3.10/site-packages/django/db/models/query.py:269\u001b[0m, in \u001b[0;36mQuerySet.__len__\u001b[0;34m(self)\u001b[0m\n\u001b[1;32m    268\u001b[0m \u001b[38;5;28;01mdef\u001b[39;00m \u001b[38;5;21m__len__\u001b[39m(\u001b[38;5;28mself\u001b[39m):\n\u001b[0;32m--> 269\u001b[0m     \u001b[38;5;28;43mself\u001b[39;49m\u001b[38;5;241;43m.\u001b[39;49m\u001b[43m_fetch_all\u001b[49m\u001b[43m(\u001b[49m\u001b[43m)\u001b[49m\n\u001b[1;32m    270\u001b[0m     \u001b[38;5;28;01mreturn\u001b[39;00m \u001b[38;5;28mlen\u001b[39m(\u001b[38;5;28mself\u001b[39m\u001b[38;5;241m.\u001b[39m_result_cache)\n",
      "File \u001b[0;32m~/opt/anaconda3/envs/esr21/lib/python3.10/site-packages/django/db/models/query.py:1308\u001b[0m, in \u001b[0;36mQuerySet._fetch_all\u001b[0;34m(self)\u001b[0m\n\u001b[1;32m   1306\u001b[0m \u001b[38;5;28;01mdef\u001b[39;00m \u001b[38;5;21m_fetch_all\u001b[39m(\u001b[38;5;28mself\u001b[39m):\n\u001b[1;32m   1307\u001b[0m     \u001b[38;5;28;01mif\u001b[39;00m \u001b[38;5;28mself\u001b[39m\u001b[38;5;241m.\u001b[39m_result_cache \u001b[38;5;129;01mis\u001b[39;00m \u001b[38;5;28;01mNone\u001b[39;00m:\n\u001b[0;32m-> 1308\u001b[0m         \u001b[38;5;28mself\u001b[39m\u001b[38;5;241m.\u001b[39m_result_cache \u001b[38;5;241m=\u001b[39m \u001b[38;5;28;43mlist\u001b[39;49m\u001b[43m(\u001b[49m\u001b[38;5;28;43mself\u001b[39;49m\u001b[38;5;241;43m.\u001b[39;49m\u001b[43m_iterable_class\u001b[49m\u001b[43m(\u001b[49m\u001b[38;5;28;43mself\u001b[39;49m\u001b[43m)\u001b[49m\u001b[43m)\u001b[49m\n\u001b[1;32m   1309\u001b[0m     \u001b[38;5;28;01mif\u001b[39;00m \u001b[38;5;28mself\u001b[39m\u001b[38;5;241m.\u001b[39m_prefetch_related_lookups \u001b[38;5;129;01mand\u001b[39;00m \u001b[38;5;129;01mnot\u001b[39;00m \u001b[38;5;28mself\u001b[39m\u001b[38;5;241m.\u001b[39m_prefetch_done:\n\u001b[1;32m   1310\u001b[0m         \u001b[38;5;28mself\u001b[39m\u001b[38;5;241m.\u001b[39m_prefetch_related_objects()\n",
      "File \u001b[0;32m~/opt/anaconda3/envs/esr21/lib/python3.10/site-packages/django/db/models/query.py:70\u001b[0m, in \u001b[0;36mModelIterable.__iter__\u001b[0;34m(self)\u001b[0m\n\u001b[1;32m     61\u001b[0m related_populators \u001b[38;5;241m=\u001b[39m get_related_populators(klass_info, select, db)\n\u001b[1;32m     62\u001b[0m known_related_objects \u001b[38;5;241m=\u001b[39m [\n\u001b[1;32m     63\u001b[0m     (field, related_objs, operator\u001b[38;5;241m.\u001b[39mattrgetter(\u001b[38;5;241m*\u001b[39m[\n\u001b[1;32m     64\u001b[0m         field\u001b[38;5;241m.\u001b[39mattname\n\u001b[0;32m   (...)\u001b[0m\n\u001b[1;32m     68\u001b[0m     ])) \u001b[38;5;28;01mfor\u001b[39;00m field, related_objs \u001b[38;5;129;01min\u001b[39;00m queryset\u001b[38;5;241m.\u001b[39m_known_related_objects\u001b[38;5;241m.\u001b[39mitems()\n\u001b[1;32m     69\u001b[0m ]\n\u001b[0;32m---> 70\u001b[0m \u001b[38;5;28;01mfor\u001b[39;00m row \u001b[38;5;129;01min\u001b[39;00m compiler\u001b[38;5;241m.\u001b[39mresults_iter(results):\n\u001b[1;32m     71\u001b[0m     obj \u001b[38;5;241m=\u001b[39m model_cls\u001b[38;5;241m.\u001b[39mfrom_db(db, init_list, row[model_fields_start:model_fields_end])\n\u001b[1;32m     72\u001b[0m     \u001b[38;5;28;01mfor\u001b[39;00m rel_populator \u001b[38;5;129;01min\u001b[39;00m related_populators:\n",
      "File \u001b[0;32m~/opt/anaconda3/envs/esr21/lib/python3.10/site-packages/django/db/models/sql/compiler.py:1100\u001b[0m, in \u001b[0;36mSQLCompiler.apply_converters\u001b[0;34m(self, rows, converters)\u001b[0m\n\u001b[1;32m   1098\u001b[0m     value \u001b[38;5;241m=\u001b[39m row[pos]\n\u001b[1;32m   1099\u001b[0m     \u001b[38;5;28;01mfor\u001b[39;00m converter \u001b[38;5;129;01min\u001b[39;00m convs:\n\u001b[0;32m-> 1100\u001b[0m         value \u001b[38;5;241m=\u001b[39m \u001b[43mconverter\u001b[49m\u001b[43m(\u001b[49m\u001b[43mvalue\u001b[49m\u001b[43m,\u001b[49m\u001b[43m \u001b[49m\u001b[43mexpression\u001b[49m\u001b[43m,\u001b[49m\u001b[43m \u001b[49m\u001b[43mconnection\u001b[49m\u001b[43m)\u001b[49m\n\u001b[1;32m   1101\u001b[0m     row[pos] \u001b[38;5;241m=\u001b[39m value\n\u001b[1;32m   1102\u001b[0m \u001b[38;5;28;01myield\u001b[39;00m row\n",
      "File \u001b[0;32m~/opt/anaconda3/envs/esr21/lib/python3.10/site-packages/django_crypto_fields/fields/base_field.py:96\u001b[0m, in \u001b[0;36mBaseField.from_db_value\u001b[0;34m(self, value, *args)\u001b[0m\n\u001b[1;32m     94\u001b[0m \u001b[38;5;28;01mif\u001b[39;00m value \u001b[38;5;129;01mis\u001b[39;00m \u001b[38;5;28;01mNone\u001b[39;00m \u001b[38;5;129;01mor\u001b[39;00m value \u001b[38;5;129;01min\u001b[39;00m [\u001b[38;5;124m'\u001b[39m\u001b[38;5;124m'\u001b[39m, \u001b[38;5;124mb\u001b[39m\u001b[38;5;124m'\u001b[39m\u001b[38;5;124m'\u001b[39m]:\n\u001b[1;32m     95\u001b[0m     \u001b[38;5;28;01mreturn\u001b[39;00m value\n\u001b[0;32m---> 96\u001b[0m \u001b[38;5;28;01mreturn\u001b[39;00m \u001b[38;5;28;43mself\u001b[39;49m\u001b[38;5;241;43m.\u001b[39;49m\u001b[43mdecrypt\u001b[49m\u001b[43m(\u001b[49m\u001b[43mvalue\u001b[49m\u001b[43m)\u001b[49m\n",
      "File \u001b[0;32m~/opt/anaconda3/envs/esr21/lib/python3.10/site-packages/django_crypto_fields/fields/base_field.py:71\u001b[0m, in \u001b[0;36mBaseField.decrypt\u001b[0;34m(self, value)\u001b[0m\n\u001b[1;32m     69\u001b[0m     \u001b[38;5;28;01mreturn\u001b[39;00m value\n\u001b[1;32m     70\u001b[0m \u001b[38;5;28;01mtry\u001b[39;00m:\n\u001b[0;32m---> 71\u001b[0m     decrypted_value \u001b[38;5;241m=\u001b[39m \u001b[38;5;28;43mself\u001b[39;49m\u001b[38;5;241;43m.\u001b[39;49m\u001b[43mfield_cryptor\u001b[49m\u001b[38;5;241;43m.\u001b[39;49m\u001b[43mdecrypt\u001b[49m\u001b[43m(\u001b[49m\u001b[43mvalue\u001b[49m\u001b[43m)\u001b[49m\n\u001b[1;32m     72\u001b[0m     \u001b[38;5;28;01mif\u001b[39;00m \u001b[38;5;129;01mnot\u001b[39;00m decrypted_value:\n\u001b[1;32m     73\u001b[0m         \u001b[38;5;28mself\u001b[39m\u001b[38;5;241m.\u001b[39mreadonly \u001b[38;5;241m=\u001b[39m \u001b[38;5;28;01mTrue\u001b[39;00m  \u001b[38;5;66;03m# did not decrypt\u001b[39;00m\n",
      "File \u001b[0;32m~/opt/anaconda3/envs/esr21/lib/python3.10/site-packages/django_crypto_fields/field_cryptor.py:148\u001b[0m, in \u001b[0;36mFieldCryptor.decrypt\u001b[0;34m(self, hash_with_prefix)\u001b[0m\n\u001b[1;32m    146\u001b[0m     plaintext \u001b[38;5;241m=\u001b[39m \u001b[38;5;28mself\u001b[39m\u001b[38;5;241m.\u001b[39mcryptor\u001b[38;5;241m.\u001b[39maes_decrypt(secret, \u001b[38;5;28mself\u001b[39m\u001b[38;5;241m.\u001b[39mmode)\n\u001b[1;32m    147\u001b[0m \u001b[38;5;28;01melif\u001b[39;00m \u001b[38;5;28mself\u001b[39m\u001b[38;5;241m.\u001b[39malgorithm \u001b[38;5;241m==\u001b[39m RSA:\n\u001b[0;32m--> 148\u001b[0m     plaintext \u001b[38;5;241m=\u001b[39m \u001b[38;5;28;43mself\u001b[39;49m\u001b[38;5;241;43m.\u001b[39;49m\u001b[43mcryptor\u001b[49m\u001b[38;5;241;43m.\u001b[39;49m\u001b[43mrsa_decrypt\u001b[49m\u001b[43m(\u001b[49m\u001b[43msecret\u001b[49m\u001b[43m,\u001b[49m\u001b[43m \u001b[49m\u001b[38;5;28;43mself\u001b[39;49m\u001b[38;5;241;43m.\u001b[39;49m\u001b[43mmode\u001b[49m\u001b[43m)\u001b[49m\n\u001b[1;32m    149\u001b[0m \u001b[38;5;28;01melse\u001b[39;00m:\n\u001b[1;32m    150\u001b[0m     \u001b[38;5;28;01mraise\u001b[39;00m CipherError(\n\u001b[1;32m    151\u001b[0m         \u001b[38;5;124m'\u001b[39m\u001b[38;5;124mCannot determine algorithm for decryption.\u001b[39m\u001b[38;5;124m'\u001b[39m\n\u001b[1;32m    152\u001b[0m         \u001b[38;5;124m'\u001b[39m\u001b[38;5;124m Valid options are \u001b[39m\u001b[38;5;132;01m{0}\u001b[39;00m\u001b[38;5;124m. Got \u001b[39m\u001b[38;5;132;01m{1}\u001b[39;00m\u001b[38;5;124m'\u001b[39m\u001b[38;5;241m.\u001b[39mformat(\n\u001b[1;32m    153\u001b[0m             \u001b[38;5;124m'\u001b[39m\u001b[38;5;124m, \u001b[39m\u001b[38;5;124m'\u001b[39m\u001b[38;5;241m.\u001b[39mjoin(\u001b[38;5;28mlist\u001b[39m(\u001b[38;5;28mself\u001b[39m\u001b[38;5;241m.\u001b[39mkeys\u001b[38;5;241m.\u001b[39mkey_filenames)), \u001b[38;5;28mself\u001b[39m\u001b[38;5;241m.\u001b[39malgorithm))\n",
      "File \u001b[0;32m~/opt/anaconda3/envs/esr21/lib/python3.10/site-packages/django_crypto_fields/cryptor.py:113\u001b[0m, in \u001b[0;36mCryptor.rsa_decrypt\u001b[0;34m(self, ciphertext, mode)\u001b[0m\n\u001b[1;32m    111\u001b[0m     plaintext \u001b[38;5;241m=\u001b[39m \u001b[38;5;28mgetattr\u001b[39m(\u001b[38;5;28mself\u001b[39m\u001b[38;5;241m.\u001b[39mkeys, rsa_key)\u001b[38;5;241m.\u001b[39mdecrypt(ciphertext)\n\u001b[1;32m    112\u001b[0m \u001b[38;5;28;01mexcept\u001b[39;00m \u001b[38;5;167;01mValueError\u001b[39;00m \u001b[38;5;28;01mas\u001b[39;00m e:\n\u001b[0;32m--> 113\u001b[0m     \u001b[38;5;28;01mraise\u001b[39;00m EncryptionError(\u001b[38;5;124m'\u001b[39m\u001b[38;5;132;01m{}\u001b[39;00m\u001b[38;5;124m Got \u001b[39m\u001b[38;5;132;01m{}\u001b[39;00m\u001b[38;5;124m.\u001b[39m\u001b[38;5;124m'\u001b[39m\u001b[38;5;241m.\u001b[39mformat(\u001b[38;5;28mstr\u001b[39m(e), ciphertext))\n\u001b[1;32m    114\u001b[0m \u001b[38;5;28;01mreturn\u001b[39;00m plaintext\u001b[38;5;241m.\u001b[39mdecode(ENCODING)\n",
      "\u001b[0;31mEncryptionError\u001b[0m: Incorrect decryption. Got b\"5\\x92\\xf7<?n\\x0c\\x87\\x1d\\xa8ck\\xe4\\x18\\xd3g\\xd2\\xe09\\xb7z\\xbb\\x92G\\xd5\\xff/\\xa35Dq\\xe9/Nv\\xa7,h\\x9b\\x8df\\x82\\x9b A$\\x1b\\xef\\x8a8K\\x83:a\\xaf\\x8cO\\x04\\x05\\xcci\\x99\\\\1\\x9b_\\xd6\\x9a\\x98/\\x8d\\xf6\\x8bV\\x94\\xd2\\x87\\xd3\\xbbl\\x9b1K\\x91\\xf4\\xd6A\\x13TDU\\xcd\\x16\\xab4\\xe3\\x12\\xb3\\xeb\\x16\\xeb\\x0eh\\x08\\xd3\\xee\\x9e\\xe9C\\xc2\\xbb\\xbeM\\xe45S_\\xc3\\x17\\xdb~\\x84\\xf3\\x07\\x90\\xa3\\xf5c\\xec\\xcd\\x8ci\\x8f0\\xf4\\xb8C\\xdd\\xff\\xae\\x936E0\\xcc\\xc3L\\xf7u7ii\\xcf\\xd6\\xed\\x82o\\x8d\\xbcFLeD\\x1a>\\\\h\\x0f\\xd6\\xb7\\xda\\x17\\x08\\xb4\\x94|<\\xa5\\xb1\\x1c\\x1e\\x1e'PA \\xe1\\xfa\\xe8X\\xdbm\\xf6\\x99\\xf3\\xf0\\x87\\x0b\\xb9\\xf6E\\xc7\\xf7G\\xa4\\x17\\xdf\\x1b\\x04a\\x9c]\\x14~\\x8c\\xf5\\x0b7\\xf5\\xb3\\xda\\x0e\\xcf\\x84\\xe6\\x99\\x96c\\xba~3\\x03\\xf0\\x86\\xd4\\xaf\\x89\\x01\\xde\\xb3\\xb8l\\xd3\\xae\\x10\\xdbC1S5N\\xaf=R\\xc1v\"."
     ]
    }
   ],
   "source": [
    "\n",
    "subject_visits = SubjectVisit.objects.filter(site_id__in=site_ids)\n",
    "\n",
    "missing_pregnancy = []\n",
    "missing_covid_symptoms = []\n",
    "missing_preg_outcome = []\n",
    "missing_new_participants = []\n",
    "\n",
    "for visit in subject_visits:\n",
    "    \n",
    "    pregnancy_predicate = pc.func_participant_female(visit)\n",
    "    \n",
    "    covid_symptoms_predicate = pc.func_symptomatic_infection_enrol(visit)\n",
    "    \n",
    "    preg_outcome_predicate = pc.func_preg_outcome_required(visit)\n",
    "    \n",
    "    new_participants_predicate = pc.fun_enrol_forms_required(visit)\n",
    "    \n",
    "    if pregnancy_predicate:\n",
    "        preg_exists = PregnancyStatus.objects.filter(subject_visit=visit).exists()\n",
    "        if not preg_exists:\n",
    "            missing_pregnancy.append(subject_visits)\n",
    "            \n",
    "    if covid_symptoms_predicate:\n",
    "        phyisical_exam_exists = PhysicalExam.objects.filter(subject_visit=visit).exists()\n",
    "        vaccination_details_exist = VaccinationDetails.objects.filter(subject_visit=visit).exists()\n",
    "        \n",
    "        if not phyisical_exam_exists:\n",
    "            missing_covid_symptoms.append(f'{subject_visits} - physicalexam')\n",
    "            \n",
    "        if not vaccination_details_exist:\n",
    "            missing_covid_symptoms.append(f'{subject_visits} - vaccinationdetails')\n",
    "            \n",
    "    if preg_outcome_predicate:\n",
    "        preg_exists = PregOutcome.objects.filter(subject_visit=visit).exists()\n",
    "        if not preg_exists:\n",
    "            missing_preg_outcome.append(subject_visits)\n",
    "            \n",
    "            \n",
    "    if new_participants_predicate:\n",
    "        demo_exists = DemographicsData.objects.filter(subject_visit=visit).exists()\n",
    "        rapid_hiv_exists = RapidHIVTesting.objects.filter(subject_visit=visit).exists()\n",
    "        covid_b_exists = Covid19PreventativeBehaviours.objects.filter(subject_visit=visit).exists()\n",
    "        medicah_hx_exists = MedicalHistory.objects.filter(subject_visit=visit).exists()\n",
    "        \n",
    "        if not demo_exists:\n",
    "            missing_pregnancy.append(f'{subject_visits} - demographicsdata')\n",
    "            \n",
    "        if not rapid_hiv_exists:\n",
    "            missing_pregnancy.append(f'{subject_visits} - rapidhivtesting')\n",
    "            \n",
    "        if not covid_b_exists:\n",
    "            missing_pregnancy.append(f'{subject_visits} - covid19preventativebehaviours')\n",
    "            \n",
    "        if not medicah_hx_exists:\n",
    "            missing_pregnancy.append(f'{subject_visits} - medicalhistory')\n",
    "            \n",
    "    \n",
    "    \n",
    "\n"
   ]
  },
  {
   "cell_type": "code",
   "execution_count": null,
   "id": "a44c0cd5",
   "metadata": {},
   "outputs": [],
   "source": []
  }
 ],
 "metadata": {
  "kernelspec": {
   "display_name": "Django Shell-Plus",
   "language": "python",
   "name": "django_extensions"
  },
  "language_info": {
   "codemirror_mode": {
    "name": "ipython",
    "version": 3
   },
   "file_extension": ".py",
   "mimetype": "text/x-python",
   "name": "python",
   "nbconvert_exporter": "python",
   "pygments_lexer": "ipython3",
   "version": "3.10.4"
  }
 },
 "nbformat": 4,
 "nbformat_minor": 5
}
