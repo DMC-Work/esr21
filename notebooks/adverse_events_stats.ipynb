{
 "cells": [
  {
   "cell_type": "code",
   "execution_count": 1,
   "id": "6a35f3fc",
   "metadata": {},
   "outputs": [],
   "source": [
    "import os\n",
    "import django\n",
    "\n",
    "os.environ.setdefault('DJANGO_SETTINGS_MODULE', 'rest.settings')\n",
    "os.environ[\"DJANGO_ALLOW_ASYNC_UNSAFE\"] = \"true\"\n",
    "django.setup()\n"
   ]
  },
  {
   "cell_type": "code",
   "execution_count": 2,
   "id": "5482b893",
   "metadata": {},
   "outputs": [],
   "source": [
    "gabs_ae = AdverseEvent.objects.filter(site=40).count()\n"
   ]
  },
  {
   "cell_type": "code",
   "execution_count": 3,
   "id": "057324ab",
   "metadata": {},
   "outputs": [
    {
     "data": {
      "text/plain": [
       "1647"
      ]
     },
     "execution_count": 3,
     "metadata": {},
     "output_type": "execute_result"
    }
   ],
   "source": [
    "gabs_ae"
   ]
  },
  {
   "cell_type": "code",
   "execution_count": 4,
   "id": "c96fd90f",
   "metadata": {},
   "outputs": [],
   "source": [
    "gabs_sae = SeriousAdverseEvent.objects.filter(site=40).count()\n"
   ]
  },
  {
   "cell_type": "code",
   "execution_count": 5,
   "id": "00adf0a9",
   "metadata": {},
   "outputs": [
    {
     "data": {
      "text/plain": [
       "0"
      ]
     },
     "execution_count": 5,
     "metadata": {},
     "output_type": "execute_result"
    }
   ],
   "source": [
    "gabs_sae"
   ]
  },
  {
   "cell_type": "code",
   "execution_count": 6,
   "id": "fb3ec007",
   "metadata": {},
   "outputs": [],
   "source": [
    "gabs_aesi = SpecialInterestAdverseEvent.objects.filter(site=40).count()\n"
   ]
  },
  {
   "cell_type": "code",
   "execution_count": 7,
   "id": "b25077d2",
   "metadata": {},
   "outputs": [
    {
     "data": {
      "text/plain": [
       "1"
      ]
     },
     "execution_count": 7,
     "metadata": {},
     "output_type": "execute_result"
    }
   ],
   "source": [
    "gabs_aesi"
   ]
  },
  {
   "cell_type": "code",
   "execution_count": 8,
   "id": "81c249a9",
   "metadata": {},
   "outputs": [],
   "source": [
    "maun_ae = AdverseEvent.objects.filter(site=41).count()\n"
   ]
  },
  {
   "cell_type": "code",
   "execution_count": 9,
   "id": "19ca094c",
   "metadata": {},
   "outputs": [
    {
     "data": {
      "text/plain": [
       "311"
      ]
     },
     "execution_count": 9,
     "metadata": {},
     "output_type": "execute_result"
    }
   ],
   "source": [
    "maun_ae"
   ]
  },
  {
   "cell_type": "code",
   "execution_count": 10,
   "id": "f3377722",
   "metadata": {},
   "outputs": [],
   "source": [
    "maun_sae = SeriousAdverseEvent.objects.filter(site=41).count()\n"
   ]
  },
  {
   "cell_type": "code",
   "execution_count": 11,
   "id": "e8037136",
   "metadata": {},
   "outputs": [
    {
     "data": {
      "text/plain": [
       "2"
      ]
     },
     "execution_count": 11,
     "metadata": {},
     "output_type": "execute_result"
    }
   ],
   "source": [
    "maun_sae"
   ]
  },
  {
   "cell_type": "code",
   "execution_count": 12,
   "id": "4a00b311",
   "metadata": {},
   "outputs": [],
   "source": [
    "maun_aesi = SpecialInterestAdverseEvent.objects.filter(site=41).count()\n"
   ]
  },
  {
   "cell_type": "code",
   "execution_count": 13,
   "id": "ade3ac46",
   "metadata": {},
   "outputs": [
    {
     "data": {
      "text/plain": [
       "0"
      ]
     },
     "execution_count": 13,
     "metadata": {},
     "output_type": "execute_result"
    }
   ],
   "source": [
    "maun_aesi"
   ]
  },
  {
   "cell_type": "code",
   "execution_count": 14,
   "id": "b1239c69",
   "metadata": {},
   "outputs": [],
   "source": [
    "serowe_ae = AdverseEvent.objects.filter(site=42).count()\n"
   ]
  },
  {
   "cell_type": "code",
   "execution_count": 15,
   "id": "5e040d76",
   "metadata": {},
   "outputs": [
    {
     "data": {
      "text/plain": [
       "1091"
      ]
     },
     "execution_count": 15,
     "metadata": {},
     "output_type": "execute_result"
    }
   ],
   "source": [
    "serowe_ae"
   ]
  },
  {
   "cell_type": "code",
   "execution_count": 16,
   "id": "3ce8b420",
   "metadata": {},
   "outputs": [],
   "source": [
    "serowe_sae = SeriousAdverseEvent.objects.filter(site=42).count()\n"
   ]
  },
  {
   "cell_type": "code",
   "execution_count": 17,
   "id": "1c945efc",
   "metadata": {},
   "outputs": [
    {
     "data": {
      "text/plain": [
       "0"
      ]
     },
     "execution_count": 17,
     "metadata": {},
     "output_type": "execute_result"
    }
   ],
   "source": [
    "serowe_sae"
   ]
  },
  {
   "cell_type": "code",
   "execution_count": 18,
   "id": "27c1cad8",
   "metadata": {},
   "outputs": [],
   "source": [
    "serowe_aesi = SpecialInterestAdverseEvent.objects.filter(site=42).count()\n"
   ]
  },
  {
   "cell_type": "code",
   "execution_count": 19,
   "id": "d5c78d9d",
   "metadata": {},
   "outputs": [
    {
     "data": {
      "text/plain": [
       "0"
      ]
     },
     "execution_count": 19,
     "metadata": {},
     "output_type": "execute_result"
    }
   ],
   "source": [
    "serowe_aesi"
   ]
  },
  {
   "cell_type": "code",
   "execution_count": 20,
   "id": "e6b81119",
   "metadata": {},
   "outputs": [],
   "source": [
    "ftown_ae = AdverseEvent.objects.filter(site=43).count()"
   ]
  },
  {
   "cell_type": "code",
   "execution_count": 21,
   "id": "ba4ff50b",
   "metadata": {},
   "outputs": [
    {
     "data": {
      "text/plain": [
       "2205"
      ]
     },
     "execution_count": 21,
     "metadata": {},
     "output_type": "execute_result"
    }
   ],
   "source": [
    "ftown_ae"
   ]
  },
  {
   "cell_type": "code",
   "execution_count": 22,
   "id": "344e41eb",
   "metadata": {},
   "outputs": [],
   "source": [
    "ftown_sae = SeriousAdverseEvent.objects.filter(site=43).count()"
   ]
  },
  {
   "cell_type": "code",
   "execution_count": 23,
   "id": "f3286656",
   "metadata": {},
   "outputs": [
    {
     "data": {
      "text/plain": [
       "0"
      ]
     },
     "execution_count": 23,
     "metadata": {},
     "output_type": "execute_result"
    }
   ],
   "source": [
    "ftown_sae"
   ]
  },
  {
   "cell_type": "code",
   "execution_count": 24,
   "id": "aaa518bb",
   "metadata": {},
   "outputs": [],
   "source": [
    "ftown_aesi = SpecialInterestAdverseEvent.objects.filter(site=43).count()\n"
   ]
  },
  {
   "cell_type": "code",
   "execution_count": 25,
   "id": "cc0ce4e1",
   "metadata": {},
   "outputs": [
    {
     "data": {
      "text/plain": [
       "0"
      ]
     },
     "execution_count": 25,
     "metadata": {},
     "output_type": "execute_result"
    }
   ],
   "source": [
    "ftown_aesi"
   ]
  },
  {
   "cell_type": "code",
   "execution_count": 26,
   "id": "7e68cc23",
   "metadata": {},
   "outputs": [],
   "source": [
    "phikwe_ae = AdverseEvent.objects.filter(site=44).count()"
   ]
  },
  {
   "cell_type": "code",
   "execution_count": 27,
   "id": "0d2e5dc2",
   "metadata": {},
   "outputs": [
    {
     "data": {
      "text/plain": [
       "317"
      ]
     },
     "execution_count": 27,
     "metadata": {},
     "output_type": "execute_result"
    }
   ],
   "source": [
    "phikwe_ae"
   ]
  },
  {
   "cell_type": "code",
   "execution_count": 28,
   "id": "7f9f7c6f",
   "metadata": {},
   "outputs": [],
   "source": [
    "phikwe_sae = SeriousAdverseEvent.objects.filter(site=44).count()"
   ]
  },
  {
   "cell_type": "code",
   "execution_count": 29,
   "id": "5feb7ff2",
   "metadata": {},
   "outputs": [
    {
     "data": {
      "text/plain": [
       "1"
      ]
     },
     "execution_count": 29,
     "metadata": {},
     "output_type": "execute_result"
    }
   ],
   "source": [
    "phikwe_sae"
   ]
  },
  {
   "cell_type": "code",
   "execution_count": 30,
   "id": "91dacc05",
   "metadata": {},
   "outputs": [],
   "source": [
    "phikwe_aes = SpecialInterestAdverseEvent.objects.filter(site=44).count()\n"
   ]
  },
  {
   "cell_type": "code",
   "execution_count": 31,
   "id": "a980fd81",
   "metadata": {},
   "outputs": [
    {
     "data": {
      "text/plain": [
       "2"
      ]
     },
     "execution_count": 31,
     "metadata": {},
     "output_type": "execute_result"
    }
   ],
   "source": [
    "phikwe_aes"
   ]
  },
  {
   "cell_type": "code",
   "execution_count": 32,
   "id": "e7b75261",
   "metadata": {},
   "outputs": [],
   "source": [
    "all_aes =  AdverseEvent.objects.count()"
   ]
  },
  {
   "cell_type": "code",
   "execution_count": 33,
   "id": "46d1091a",
   "metadata": {},
   "outputs": [
    {
     "data": {
      "text/plain": [
       "5571"
      ]
     },
     "execution_count": 33,
     "metadata": {},
     "output_type": "execute_result"
    }
   ],
   "source": [
    "all_aes"
   ]
  },
  {
   "cell_type": "code",
   "execution_count": 34,
   "id": "8f7bed86",
   "metadata": {},
   "outputs": [],
   "source": [
    "all_saes = SeriousAdverseEvent.objects.count()"
   ]
  },
  {
   "cell_type": "code",
   "execution_count": 35,
   "id": "6cf4b112",
   "metadata": {},
   "outputs": [
    {
     "data": {
      "text/plain": [
       "3"
      ]
     },
     "execution_count": 35,
     "metadata": {},
     "output_type": "execute_result"
    }
   ],
   "source": [
    "all_saes"
   ]
  },
  {
   "cell_type": "code",
   "execution_count": 36,
   "id": "34148241",
   "metadata": {},
   "outputs": [],
   "source": [
    "all_aesi = SpecialInterestAdverseEvent.objects.count()"
   ]
  },
  {
   "cell_type": "code",
   "execution_count": 37,
   "id": "35f44ba5",
   "metadata": {},
   "outputs": [
    {
     "data": {
      "text/plain": [
       "3"
      ]
     },
     "execution_count": 37,
     "metadata": {},
     "output_type": "execute_result"
    }
   ],
   "source": [
    "all_aesi"
   ]
  },
  {
   "cell_type": "code",
   "execution_count": null,
   "id": "c26ca209",
   "metadata": {},
   "outputs": [],
   "source": []
  }
 ],
 "metadata": {
  "kernelspec": {
   "display_name": "Django Shell-Plus",
   "language": "python",
   "name": "django_extensions"
  },
  "language_info": {
   "codemirror_mode": {
    "name": "ipython",
    "version": 3
   },
   "file_extension": ".py",
   "mimetype": "text/x-python",
   "name": "python",
   "nbconvert_exporter": "python",
   "pygments_lexer": "ipython3",
   "version": "3.9.8"
  }
 },
 "nbformat": 4,
 "nbformat_minor": 5
}
