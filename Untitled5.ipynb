{
 "cells": [
  {
   "cell_type": "code",
   "execution_count": 1,
   "id": "b32d4531",
   "metadata": {},
   "outputs": [],
   "source": [
    "import os, sys\n",
    "import django\n",
    "import pytz\n",
    "from dateutil import parser\n",
    "from django.utils.timezone import make_aware\n",
    "os.environ[\"DJANGO_ALLOW_ASYNC_UNSAFE\"] = \"true\"\n",
    "from edc_base.utils import age, get_utcnow\n",
    "sys.path.append('../..') # add path to project root dir\n",
    "os.environ[\"DJANGO_SETTINGS_MODULE\"] = \"esr21.settings\"\n",
    "import pandas as pd\n",
    "\n",
    "# Connect to Django ORM\n",
    "django.setup()\n",
    "import uuid\n",
    "from django.contrib.sites.models import Site\n",
    "from django.core.exceptions import ValidationError"
   ]
  },
  {
   "cell_type": "code",
   "execution_count": 2,
   "id": "8346896b",
   "metadata": {},
   "outputs": [
    {
     "data": {
      "text/plain": [
       "{'_state': <django.db.models.base.ModelState at 0x135158790>,\n",
       " 'created': datetime.datetime(2021, 9, 15, 14, 30, 10, 176303, tzinfo=<UTC>),\n",
       " 'modified': datetime.datetime(2021, 9, 15, 14, 30, 10, 176317, tzinfo=<UTC>),\n",
       " 'user_created': 'omaipelo',\n",
       " 'user_modified': '',\n",
       " 'hostname_created': 'esr21',\n",
       " 'hostname_modified': 'esr21',\n",
       " 'revision': '',\n",
       " 'device_created': '99',\n",
       " 'device_modified': '99',\n",
       " 'id': UUID('cafd8bbf-1779-4082-9163-90b28c85d4ec'),\n",
       " 'site_id': 40,\n",
       " 'subject_identifier': '',\n",
       " 'slug': '|s99cgm6w',\n",
       " 'screening_identifier': 'S99CGM6W',\n",
       " 'report_datetime': datetime.datetime(2021, 9, 15, 14, 24, tzinfo=<UTC>),\n",
       " 'any_vaccine_receipt': 'Yes',\n",
       " 'participating_in_other_studies': 'No',\n",
       " 'age_in_years': 52,\n",
       " 'received_vaccines': 'No',\n",
       " 'ineligibility': '[]',\n",
       " 'is_eligible': True,\n",
       " 'is_consented': False}"
      ]
     },
     "execution_count": 2,
     "metadata": {},
     "output_type": "execute_result"
    }
   ],
   "source": [
    "EligibilityConfirmation.objects.latest('-created').__dict__"
   ]
  },
  {
   "cell_type": "code",
   "execution_count": 3,
   "id": "06eaa0d8",
   "metadata": {},
   "outputs": [
    {
     "data": {
      "text/plain": [
       "datetime.datetime(2021, 12, 15, 13, 37, 16, 689803, tzinfo=<UTC>)"
      ]
     },
     "execution_count": 3,
     "metadata": {},
     "output_type": "execute_result"
    }
   ],
   "source": [
    "ScreeningEligibility.objects.latest('created').created\n"
   ]
  },
  {
   "cell_type": "code",
   "execution_count": null,
   "id": "a6fef3da",
   "metadata": {},
   "outputs": [],
   "source": []
  }
 ],
 "metadata": {
  "kernelspec": {
   "display_name": "Django Shell-Plus",
   "language": "python",
   "name": "django_extensions"
  },
  "language_info": {
   "codemirror_mode": {
    "name": "ipython",
    "version": 3
   },
   "file_extension": ".py",
   "mimetype": "text/x-python",
   "name": "python",
   "nbconvert_exporter": "python",
   "pygments_lexer": "ipython3",
   "version": "3.9.0"
  }
 },
 "nbformat": 4,
 "nbformat_minor": 5
}
