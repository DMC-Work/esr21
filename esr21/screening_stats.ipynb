{
 "cells": [
  {
   "cell_type": "code",
   "execution_count": 86,
   "id": "f5f825a4",
   "metadata": {},
   "outputs": [],
   "source": [
    "import os\n",
    "import django\n",
    "os.environ.setdefault('DJANGO_SETTINGS_MODULE', 'rest.settings')\n",
    "os.environ[\"DJANGO_ALLOW_ASYNC_UNSAFE\"] = \"true\"\n",
    "django.setup()\n"
   ]
  },
  {
   "cell_type": "code",
   "execution_count": 126,
   "id": "bb8d67d4",
   "metadata": {},
   "outputs": [],
   "source": [
    "gabs_eligible_participants = EligibilityConfirmation.objects.filter(is_eligible=True,site_id=40,created__date__lte=due_date.date()).count()\n",
    "\n"
   ]
  },
  {
   "cell_type": "code",
   "execution_count": 127,
   "id": "917a2b04",
   "metadata": {},
   "outputs": [
    {
     "data": {
      "text/plain": [
       "0"
      ]
     },
     "execution_count": 127,
     "metadata": {},
     "output_type": "execute_result"
    }
   ],
   "source": [
    "gabs_eligible_participants"
   ]
  },
  {
   "cell_type": "code",
   "execution_count": 94,
   "id": "ce0f110d",
   "metadata": {},
   "outputs": [],
   "source": [
    "f_town_eligible_participants = EligibilityConfirmation.objects.filter(is_eligible=True,site_id=43).count()\n"
   ]
  },
  {
   "cell_type": "code",
   "execution_count": 95,
   "id": "0f581392",
   "metadata": {},
   "outputs": [
    {
     "data": {
      "text/plain": [
       "1100"
      ]
     },
     "execution_count": 95,
     "metadata": {},
     "output_type": "execute_result"
    }
   ],
   "source": [
    "f_town_eligible_participants"
   ]
  },
  {
   "cell_type": "code",
   "execution_count": 65,
   "id": "f9607940",
   "metadata": {},
   "outputs": [],
   "source": [
    "serowe_eligible_participants = EligibilityConfirmation.objects.filter(is_eligible=True,site_id=42).count()\n"
   ]
  },
  {
   "cell_type": "code",
   "execution_count": 66,
   "id": "f802bbb4",
   "metadata": {},
   "outputs": [
    {
     "data": {
      "text/plain": [
       "954"
      ]
     },
     "execution_count": 66,
     "metadata": {},
     "output_type": "execute_result"
    }
   ],
   "source": [
    "serowe_eligible_participants\n"
   ]
  },
  {
   "cell_type": "code",
   "execution_count": 70,
   "id": "17049654",
   "metadata": {},
   "outputs": [],
   "source": [
    "maun_eligible_participants = EligibilityConfirmation.objects.filter(is_eligible=True,site_id=41).count()\n"
   ]
  },
  {
   "cell_type": "code",
   "execution_count": 72,
   "id": "b1737897",
   "metadata": {},
   "outputs": [
    {
     "data": {
      "text/plain": [
       "1199"
      ]
     },
     "execution_count": 72,
     "metadata": {},
     "output_type": "execute_result"
    }
   ],
   "source": [
    "maun_eligible_participants"
   ]
  },
  {
   "cell_type": "code",
   "execution_count": 73,
   "id": "0bd77ef5",
   "metadata": {},
   "outputs": [],
   "source": [
    "pikwe_eligible_participants = EligibilityConfirmation.objects.filter(is_eligible=True,site_id=44).count()\n"
   ]
  },
  {
   "cell_type": "code",
   "execution_count": 74,
   "id": "0219bcb1",
   "metadata": {},
   "outputs": [
    {
     "data": {
      "text/plain": [
       "734"
      ]
     },
     "execution_count": 74,
     "metadata": {},
     "output_type": "execute_result"
    }
   ],
   "source": [
    "pikwe_eligible_participants"
   ]
  },
  {
   "cell_type": "code",
   "execution_count": 147,
   "id": "3925beeb",
   "metadata": {},
   "outputs": [],
   "source": [
    "all_sites_eligible_participants = EligibilityConfirmation.objects.filter(is_eligible=True).count()"
   ]
  },
  {
   "cell_type": "code",
   "execution_count": 148,
   "id": "fc844678",
   "metadata": {},
   "outputs": [
    {
     "data": {
      "text/plain": [
       "7396"
      ]
     },
     "execution_count": 148,
     "metadata": {},
     "output_type": "execute_result"
    }
   ],
   "source": [
    "all_sites_eligible_participants"
   ]
  },
  {
   "cell_type": "code",
   "execution_count": 77,
   "id": "58d9d4a4",
   "metadata": {},
   "outputs": [],
   "source": [
    "gabs_ineligible_participants = EligibilityConfirmation.objects.filter(is_eligible=False,site_id=40).count()\n"
   ]
  },
  {
   "cell_type": "code",
   "execution_count": 78,
   "id": "864cd476",
   "metadata": {},
   "outputs": [
    {
     "data": {
      "text/plain": [
       "3"
      ]
     },
     "execution_count": 78,
     "metadata": {},
     "output_type": "execute_result"
    }
   ],
   "source": [
    "gabs_ineligible_participants"
   ]
  },
  {
   "cell_type": "code",
   "execution_count": 79,
   "id": "567d05ed",
   "metadata": {},
   "outputs": [],
   "source": [
    "maun_ineligible_participants = EligibilityConfirmation.objects.filter(is_eligible=False,site_id=41).count()\n"
   ]
  },
  {
   "cell_type": "code",
   "execution_count": 80,
   "id": "d8af66a6",
   "metadata": {},
   "outputs": [
    {
     "data": {
      "text/plain": [
       "0"
      ]
     },
     "execution_count": 80,
     "metadata": {},
     "output_type": "execute_result"
    }
   ],
   "source": [
    "maun_ineligible_participants"
   ]
  },
  {
   "cell_type": "code",
   "execution_count": 81,
   "id": "5b0861f5",
   "metadata": {},
   "outputs": [],
   "source": [
    "serowe_ineligible_participants = EligibilityConfirmation.objects.filter(is_eligible=False,site_id=42).count()\n"
   ]
  },
  {
   "cell_type": "code",
   "execution_count": 82,
   "id": "72f4ef7a",
   "metadata": {},
   "outputs": [
    {
     "data": {
      "text/plain": [
       "4"
      ]
     },
     "execution_count": 82,
     "metadata": {},
     "output_type": "execute_result"
    }
   ],
   "source": [
    "serowe_ineligible_participants"
   ]
  },
  {
   "cell_type": "code",
   "execution_count": 83,
   "id": "d5cab1f2",
   "metadata": {},
   "outputs": [],
   "source": [
    "ftown_ineligible_participants = EligibilityConfirmation.objects.filter(is_eligible=False,site_id=43).count()\n"
   ]
  },
  {
   "cell_type": "code",
   "execution_count": 84,
   "id": "1f36edd8",
   "metadata": {},
   "outputs": [
    {
     "data": {
      "text/plain": [
       "7"
      ]
     },
     "execution_count": 84,
     "metadata": {},
     "output_type": "execute_result"
    }
   ],
   "source": [
    "ftown_ineligible_participants"
   ]
  },
  {
   "cell_type": "code",
   "execution_count": 96,
   "id": "7d8b4f5f",
   "metadata": {},
   "outputs": [],
   "source": [
    "pikwe_ineligible_participants = EligibilityConfirmation.objects.filter(is_eligible=False,site_id=44).count()\n",
    "\n"
   ]
  },
  {
   "cell_type": "code",
   "execution_count": 97,
   "id": "877d3e7a",
   "metadata": {},
   "outputs": [
    {
     "data": {
      "text/plain": [
       "4"
      ]
     },
     "execution_count": 97,
     "metadata": {},
     "output_type": "execute_result"
    }
   ],
   "source": [
    "pikwe_ineligible_participants\n"
   ]
  },
  {
   "cell_type": "code",
   "execution_count": 149,
   "id": "05397ee2",
   "metadata": {},
   "outputs": [],
   "source": [
    "all_sites_ineligible_participants = EligibilityConfirmation.objects.filter(is_eligible=False).count()"
   ]
  },
  {
   "cell_type": "code",
   "execution_count": 150,
   "id": "d45e1ef4",
   "metadata": {},
   "outputs": [
    {
     "data": {
      "text/plain": [
       "18"
      ]
     },
     "execution_count": 150,
     "metadata": {},
     "output_type": "execute_result"
    }
   ],
   "source": [
    "all_sites_ineligible_participants"
   ]
  },
  {
   "cell_type": "code",
   "execution_count": 152,
   "id": "c055942e",
   "metadata": {},
   "outputs": [],
   "source": [
    "all_sites = EligibilityConfirmation.objects.count()"
   ]
  },
  {
   "cell_type": "code",
   "execution_count": 153,
   "id": "6bdf69f4",
   "metadata": {},
   "outputs": [
    {
     "data": {
      "text/plain": [
       "7414"
      ]
     },
     "execution_count": 153,
     "metadata": {},
     "output_type": "execute_result"
    }
   ],
   "source": [
    "all_sites"
   ]
  },
  {
   "cell_type": "code",
   "execution_count": null,
   "id": "b0347e03",
   "metadata": {},
   "outputs": [],
   "source": []
  }
 ],
 "metadata": {
  "kernelspec": {
   "display_name": "Django Shell-Plus",
   "language": "python",
   "name": "django_extensions"
  },
  "language_info": {
   "codemirror_mode": {
    "name": "ipython",
    "version": 3
   },
   "file_extension": ".py",
   "mimetype": "text/x-python",
   "name": "python",
   "nbconvert_exporter": "python",
   "pygments_lexer": "ipython3",
   "version": "3.9.8"
  }
 },
 "nbformat": 4,
 "nbformat_minor": 5
}
