{
 "cells": [
  {
   "cell_type": "code",
   "execution_count": 1,
   "id": "89f30709",
   "metadata": {},
   "outputs": [],
   "source": [
    "import os\n",
    "import django\n",
    "\n",
    "os.environ.setdefault('DJANGO_SETTINGS_MODULE', 'rest.settings')\n",
    "os.environ[\"DJANGO_ALLOW_ASYNC_UNSAFE\"] = \"true\"\n",
    "django.setup()\n",
    "\n"
   ]
  },
  {
   "cell_type": "code",
   "execution_count": 2,
   "id": "0c0bcb72",
   "metadata": {},
   "outputs": [],
   "source": [
    "gabs_pos_test = PregnancyTest.objects.filter(result='POS', site_id=40).count()\n"
   ]
  },
  {
   "cell_type": "code",
   "execution_count": 3,
   "id": "f4af35c3",
   "metadata": {},
   "outputs": [
    {
     "data": {
      "text/plain": [
       "20"
      ]
     },
     "execution_count": 3,
     "metadata": {},
     "output_type": "execute_result"
    }
   ],
   "source": [
    "gabs_pos_test"
   ]
  },
  {
   "cell_type": "code",
   "execution_count": 4,
   "id": "5cd546b7",
   "metadata": {},
   "outputs": [],
   "source": [
    "gabs_neg_test = PregnancyTest.objects.filter(result='NEG', site_id=40).count()\n"
   ]
  },
  {
   "cell_type": "code",
   "execution_count": 5,
   "id": "3d0079f7",
   "metadata": {},
   "outputs": [
    {
     "data": {
      "text/plain": [
       "1718"
      ]
     },
     "execution_count": 5,
     "metadata": {},
     "output_type": "execute_result"
    }
   ],
   "source": [
    "gabs_neg_test"
   ]
  },
  {
   "cell_type": "code",
   "execution_count": 6,
   "id": "de888b20",
   "metadata": {},
   "outputs": [],
   "source": [
    "gabs_none_test = PregnancyTest.objects.filter(result__isnull=True, site_id=40).count()\n"
   ]
  },
  {
   "cell_type": "code",
   "execution_count": 7,
   "id": "de6aebbf",
   "metadata": {},
   "outputs": [
    {
     "data": {
      "text/plain": [
       "139"
      ]
     },
     "execution_count": 7,
     "metadata": {},
     "output_type": "execute_result"
    }
   ],
   "source": [
    "gabs_none_test"
   ]
  },
  {
   "cell_type": "code",
   "execution_count": 8,
   "id": "c2c5500f",
   "metadata": {},
   "outputs": [],
   "source": [
    "maun_pos_test = PregnancyTest.objects.filter(result='POS', site_id=41).count()\n"
   ]
  },
  {
   "cell_type": "code",
   "execution_count": 9,
   "id": "6a101d0d",
   "metadata": {},
   "outputs": [
    {
     "data": {
      "text/plain": [
       "6"
      ]
     },
     "execution_count": 9,
     "metadata": {},
     "output_type": "execute_result"
    }
   ],
   "source": [
    "maun_pos_test\n"
   ]
  },
  {
   "cell_type": "code",
   "execution_count": 10,
   "id": "22c09c6a",
   "metadata": {},
   "outputs": [],
   "source": [
    "maun_neg_test = PregnancyTest.objects.filter(result='NEG', site_id=41).count()\n"
   ]
  },
  {
   "cell_type": "code",
   "execution_count": 11,
   "id": "de7d796c",
   "metadata": {},
   "outputs": [
    {
     "data": {
      "text/plain": [
       "442"
      ]
     },
     "execution_count": 11,
     "metadata": {},
     "output_type": "execute_result"
    }
   ],
   "source": [
    "maun_neg_test\n"
   ]
  },
  {
   "cell_type": "code",
   "execution_count": 12,
   "id": "90f74ba4",
   "metadata": {},
   "outputs": [],
   "source": [
    "maun_none_test = PregnancyTest.objects.filter(result__isnull=True, site_id=41).count()\n"
   ]
  },
  {
   "cell_type": "code",
   "execution_count": 13,
   "id": "f191200b",
   "metadata": {},
   "outputs": [
    {
     "data": {
      "text/plain": [
       "17"
      ]
     },
     "execution_count": 13,
     "metadata": {},
     "output_type": "execute_result"
    }
   ],
   "source": [
    "maun_none_test"
   ]
  },
  {
   "cell_type": "code",
   "execution_count": 14,
   "id": "4e9e6146",
   "metadata": {},
   "outputs": [],
   "source": [
    "serowe_pos_test = PregnancyTest.objects.filter(result='POS', site_id=42).count()\n"
   ]
  },
  {
   "cell_type": "code",
   "execution_count": 15,
   "id": "349bf3d5",
   "metadata": {},
   "outputs": [
    {
     "data": {
      "text/plain": [
       "4"
      ]
     },
     "execution_count": 15,
     "metadata": {},
     "output_type": "execute_result"
    }
   ],
   "source": [
    "serowe_pos_test"
   ]
  },
  {
   "cell_type": "code",
   "execution_count": 16,
   "id": "c3c701b2",
   "metadata": {},
   "outputs": [],
   "source": [
    "serowe_neg_test = PregnancyTest.objects.filter(result='NEG', site_id=42).count()\n"
   ]
  },
  {
   "cell_type": "code",
   "execution_count": 17,
   "id": "aa77ac9c",
   "metadata": {},
   "outputs": [
    {
     "data": {
      "text/plain": [
       "258"
      ]
     },
     "execution_count": 17,
     "metadata": {},
     "output_type": "execute_result"
    }
   ],
   "source": [
    "serowe_neg_test"
   ]
  },
  {
   "cell_type": "code",
   "execution_count": 18,
   "id": "12c9d488",
   "metadata": {},
   "outputs": [],
   "source": [
    "serowe_none_test = PregnancyTest.objects.filter(result__isnull=True, site_id=42).count()\n"
   ]
  },
  {
   "cell_type": "code",
   "execution_count": 19,
   "id": "b9bae510",
   "metadata": {},
   "outputs": [
    {
     "data": {
      "text/plain": [
       "2"
      ]
     },
     "execution_count": 19,
     "metadata": {},
     "output_type": "execute_result"
    }
   ],
   "source": [
    "serowe_none_test"
   ]
  },
  {
   "cell_type": "code",
   "execution_count": 20,
   "id": "cdeebfbe",
   "metadata": {},
   "outputs": [],
   "source": [
    "ftown_pos_test = PregnancyTest.objects.filter(result='POS', site_id=43).count()\n"
   ]
  },
  {
   "cell_type": "code",
   "execution_count": 21,
   "id": "52f54a72",
   "metadata": {},
   "outputs": [
    {
     "data": {
      "text/plain": [
       "12"
      ]
     },
     "execution_count": 21,
     "metadata": {},
     "output_type": "execute_result"
    }
   ],
   "source": [
    "ftown_pos_test\n"
   ]
  },
  {
   "cell_type": "code",
   "execution_count": 22,
   "id": "5beb6e2e",
   "metadata": {},
   "outputs": [],
   "source": [
    "ftown_neg_test = PregnancyTest.objects.filter(result='NEG', site_id=43).count()\n"
   ]
  },
  {
   "cell_type": "code",
   "execution_count": 23,
   "id": "65b88782",
   "metadata": {},
   "outputs": [
    {
     "data": {
      "text/plain": [
       "375"
      ]
     },
     "execution_count": 23,
     "metadata": {},
     "output_type": "execute_result"
    }
   ],
   "source": [
    "ftown_neg_test\n"
   ]
  },
  {
   "cell_type": "code",
   "execution_count": 24,
   "id": "52fd6ae4",
   "metadata": {},
   "outputs": [],
   "source": [
    "ftown_none_test = PregnancyTest.objects.filter(result__isnull=True, site_id=43).count()\n"
   ]
  },
  {
   "cell_type": "code",
   "execution_count": 25,
   "id": "b5a2b2c7",
   "metadata": {},
   "outputs": [
    {
     "data": {
      "text/plain": [
       "48"
      ]
     },
     "execution_count": 25,
     "metadata": {},
     "output_type": "execute_result"
    }
   ],
   "source": [
    "ftown_none_test\n"
   ]
  },
  {
   "cell_type": "code",
   "execution_count": 26,
   "id": "2de2de14",
   "metadata": {},
   "outputs": [],
   "source": [
    "phikwe_pos_test = PregnancyTest.objects.filter(result='POS', site_id=44).count()\n"
   ]
  },
  {
   "cell_type": "code",
   "execution_count": 27,
   "id": "a23a1198",
   "metadata": {},
   "outputs": [
    {
     "data": {
      "text/plain": [
       "7"
      ]
     },
     "execution_count": 27,
     "metadata": {},
     "output_type": "execute_result"
    }
   ],
   "source": [
    "phikwe_pos_test"
   ]
  },
  {
   "cell_type": "code",
   "execution_count": 28,
   "id": "e23a0402",
   "metadata": {},
   "outputs": [],
   "source": [
    "phikwe_neg_test = PregnancyTest.objects.filter(result='NEG', site_id=44).count()\n"
   ]
  },
  {
   "cell_type": "code",
   "execution_count": 29,
   "id": "ca25e49e",
   "metadata": {},
   "outputs": [
    {
     "data": {
      "text/plain": [
       "219"
      ]
     },
     "execution_count": 29,
     "metadata": {},
     "output_type": "execute_result"
    }
   ],
   "source": [
    "phikwe_neg_test"
   ]
  },
  {
   "cell_type": "code",
   "execution_count": 30,
   "id": "d2d007ea",
   "metadata": {},
   "outputs": [],
   "source": [
    "phikwe_none_test = PregnancyTest.objects.filter(result__isnull=True, site_id=44).count()\n"
   ]
  },
  {
   "cell_type": "code",
   "execution_count": 31,
   "id": "e494f663",
   "metadata": {},
   "outputs": [
    {
     "data": {
      "text/plain": [
       "8"
      ]
     },
     "execution_count": 31,
     "metadata": {},
     "output_type": "execute_result"
    }
   ],
   "source": [
    "phikwe_none_test\n"
   ]
  },
  {
   "cell_type": "code",
   "execution_count": 32,
   "id": "1344b33f",
   "metadata": {},
   "outputs": [],
   "source": [
    "all_sites_pos_test = PregnancyTest.objects.filter(result='POS').count()\n"
   ]
  },
  {
   "cell_type": "code",
   "execution_count": 33,
   "id": "b00ef75b",
   "metadata": {},
   "outputs": [
    {
     "data": {
      "text/plain": [
       "49"
      ]
     },
     "execution_count": 33,
     "metadata": {},
     "output_type": "execute_result"
    }
   ],
   "source": [
    "all_sites_pos_test"
   ]
  },
  {
   "cell_type": "code",
   "execution_count": 34,
   "id": "e3ea54e4",
   "metadata": {},
   "outputs": [],
   "source": [
    "all_sites_neg_test = PregnancyTest.objects.filter(result='NEG').count()\n"
   ]
  },
  {
   "cell_type": "code",
   "execution_count": 35,
   "id": "de9d64d0",
   "metadata": {},
   "outputs": [
    {
     "data": {
      "text/plain": [
       "3012"
      ]
     },
     "execution_count": 35,
     "metadata": {},
     "output_type": "execute_result"
    }
   ],
   "source": [
    "all_sites_neg_test"
   ]
  },
  {
   "cell_type": "code",
   "execution_count": 36,
   "id": "620c9e04",
   "metadata": {},
   "outputs": [],
   "source": [
    "all_sites_none_test = PregnancyTest.objects.filter(result__isnull=True,).count()\n"
   ]
  },
  {
   "cell_type": "code",
   "execution_count": 37,
   "id": "f1cb0cf0",
   "metadata": {},
   "outputs": [
    {
     "data": {
      "text/plain": [
       "214"
      ]
     },
     "execution_count": 37,
     "metadata": {},
     "output_type": "execute_result"
    }
   ],
   "source": [
    "all_sites_none_test"
   ]
  },
  {
   "cell_type": "code",
   "execution_count": 38,
   "id": "65c6df61",
   "metadata": {},
   "outputs": [],
   "source": [
    "all_sites = PregnancyTest.objects.count()"
   ]
  },
  {
   "cell_type": "code",
   "execution_count": 39,
   "id": "12401f3d",
   "metadata": {},
   "outputs": [
    {
     "data": {
      "text/plain": [
       "3275"
      ]
     },
     "execution_count": 39,
     "metadata": {},
     "output_type": "execute_result"
    }
   ],
   "source": [
    "all_sites\n"
   ]
  },
  {
   "cell_type": "code",
   "execution_count": null,
   "id": "d7bb3105",
   "metadata": {},
   "outputs": [],
   "source": []
  }
 ],
 "metadata": {
  "kernelspec": {
   "display_name": "Django Shell-Plus",
   "language": "python",
   "name": "django_extensions"
  },
  "language_info": {
   "codemirror_mode": {
    "name": "ipython",
    "version": 3
   },
   "file_extension": ".py",
   "mimetype": "text/x-python",
   "name": "python",
   "nbconvert_exporter": "python",
   "pygments_lexer": "ipython3",
   "version": "3.9.8"
  }
 },
 "nbformat": 4,
 "nbformat_minor": 5
}
